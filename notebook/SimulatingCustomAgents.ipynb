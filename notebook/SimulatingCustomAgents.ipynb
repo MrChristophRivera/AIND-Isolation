{
 "cells": [
  {
   "cell_type": "markdown",
   "metadata": {
    "deletable": true,
    "editable": true
   },
   "source": [
    "### Objective: \n",
    "In this notebook, I am exploring the performance of different agents to see how they perform\n",
    "against built in agents. \n",
    "\n",
    "#### Import modules"
   ]
  },
  {
   "cell_type": "code",
   "execution_count": 1,
   "metadata": {
    "collapsed": false,
    "deletable": true,
    "editable": true
   },
   "outputs": [],
   "source": [
    "import numpy as np\n",
    "import pandas as pd\n",
    "from os import getcwd,listdir\n",
    "from os.path import split, join\n",
    "import sys\n",
    "import random\n",
    "from collections import namedtuple, OrderedDict\n",
    "from tqdm import tqdm_notebook as pbar\n",
    "# set the base path\n",
    "base_path = split(getcwd())[0]\n",
    "sys.path.append(base_path)\n",
    "\n",
    "\n",
    "from isolation import Board\n",
    "from sample_players import (RandomPlayer, open_move_score,\n",
    "                            improved_score, center_score)\n",
    "from game_agent import (MinimaxPlayer, AlphaBetaPlayer, custom_score,\n",
    "                        custom_score_2, custom_score_3)\n",
    "\n",
    "from tournament import *\n",
    "from custom_builders import (exponent_score_builder, \n",
    "                             improved_weighted_center_score_builder,\n",
    "                             improved_weighted_score_builder)"
   ]
  },
  {
   "cell_type": "code",
   "execution_count": 2,
   "metadata": {
    "collapsed": false,
    "deletable": true,
    "editable": true
   },
   "outputs": [],
   "source": [
    "NUM_MATCHES = 5 # number of matches against each opponent\n",
    "TIME_LIMIT = 10  # number of milliseconds before timeout\n",
    "Agent = namedtuple(\"Agent\", [\"player\", \"name\"])\n",
    "\n",
    "# Define a collection of agents to compete against the test agents\n",
    "cpu_agents = [\n",
    "    Agent(RandomPlayer(), \"Random\"),\n",
    "    Agent(MinimaxPlayer(score_fn=open_move_score), \"MM_Open\"),\n",
    "    Agent(MinimaxPlayer(score_fn=center_score), \"MM_Center\"),\n",
    "    Agent(MinimaxPlayer(score_fn=improved_score), \"MM_Improved\"),\n",
    "    Agent(AlphaBetaPlayer(score_fn=open_move_score), \"AB_Open\"),\n",
    "    Agent(AlphaBetaPlayer(score_fn=center_score), \"AB_Center\"),\n",
    "    Agent(AlphaBetaPlayer(score_fn=improved_score), \"AB_Improved\")\n",
    "]\n",
    "\n",
    "\n",
    "def play_game_set(test_agent, cpu_agent, win_records,time_limit):\n",
    "    \"\"\"plays a single game set between player_agent and cpu_agent\"\"\"\n",
    "    \n",
    "    for _ in range(2):\n",
    "        games = [Board(test_agent.player, cpu_agent.player), Board(cpu_agent.player,test_agent.player)]\n",
    "\n",
    "    # play a rando move for the first player\n",
    "    move = random.choice(games[0].get_legal_moves())\n",
    "    for game in games: \n",
    "        game.apply_move(move)\n",
    "\n",
    "    for game in games: \n",
    "        winner, _, termination = game.play(time_limit=time_limit)\n",
    "        if winner==test_agent.player: \n",
    "            win_records[test_agent.name][cpu_agent.name]+=1\n",
    "\n",
    "def create_win_records(test_agents, cpu_agents):\n",
    "    \"\"\" creates a dict for the holding records\"\"\"\n",
    "    return {agent.name: {agent.name:0 for agent in cpu_agents} for agent in test_agents}\n",
    "\n",
    "\n",
    "def play_matches(test_agents,cpu_agents, num_matches, time_limit=150):\n",
    "    \"\"\"Plays a series of matches between the test agents and cpu agent\n",
    "    \"\"\"\n",
    "    win_records = create_win_records(test_agents, cpu_agents)\n",
    "    \n",
    "    for ta in pbar(test_agents):\n",
    "        for ca in pbar(cpu_agents):\n",
    "            for _ in pbar(range(num_matches)):\n",
    "                play_game_set(ta,ca,win_records,time_limit) \n",
    "    return pd.DataFrame(win_records).T\n",
    "\n",
    "\n",
    "\n",
    "def random_improved_weighted_agents(n, min_w=0,max_w=10 ):\n",
    "    \"\"\"generates a list of random weighted agents\"\"\"\n",
    "    ws = np.random.uniform(min_w,max_w, n)\n",
    "    agents = [Agent(AlphaBetaPlayer(score_fn=improved_weighted_score_builder(w)), \n",
    "                  \"AB_WeightedImproved (w:%f)\"%w  ) for w in ws]\n",
    "    description = pd.DataFrame({'Weight':ws})\n",
    "    description['Agent Type']= 'Improved Weighted'\n",
    "    description['Lambda']=1\n",
    "    description['K']=1\n",
    "    \n",
    "    return agents, description\n",
    "    \n",
    "    \n",
    "def random_improved_weighted_center_agents(n, min_w=0,max_w=10 ):\n",
    "    \"\"\"generates a list of random weighted agents\"\"\"\n",
    "    ws = np.random.uniform(min_w,max_w, n)\n",
    "    ls = np.random.uniform(0,1,n)\n",
    "    agents = [Agent(AlphaBetaPlayer(score_fn=improved_weighted_center_score_builder(ws[i],ls[i])), \n",
    "                    \"AB_WeightedCenter (w:%f,lamba:%f)\"%(ws[i],ls[i])) for i in range(n)]\n",
    "    \n",
    "    \n",
    "    description = pd.DataFrame({'Weight':ws, 'Lambda':ls})\n",
    "    description['Agent Type']= 'Improved Weighted Centered'\n",
    "    description['K']=1\n",
    "    \n",
    "    return agents, description\n",
    "\n",
    "\n",
    "def random_exponential_agents(n, min_k=1.1,max_k=3 ):\n",
    "    \"\"\"generates a list of random weighted agents\"\"\"\n",
    "    ks = np.random.uniform(min_k,max_k, n,)\n",
    "\n",
    "    agents = [Agent(AlphaBetaPlayer(score_fn=exponent_score_builder(k)),\n",
    "                    \"AB_Exp (k:%f)\"%(k)) for k in ks]\n",
    "    \n",
    "    \n",
    "    description = pd.DataFrame({'K':ks})\n",
    "    description['Agent Type']= 'Exponential'\n",
    "    description['Weight']=1\n",
    "    description['Lambda']=1\n",
    "                               \n",
    "    return agents, description\n",
    "    \n",
    "    \n",
    "def create_random_test_agent_list(n=10,seed = 123):\n",
    "    \"\"\"Creates a random test agent list to play games\n",
    "    Args:\n",
    "        n(int): the number of agents per custom type\n",
    "    Returns:\n",
    "        test_agents(list): a list of the agents\n",
    "        test_agent_description(dataframe): a data frame of the players\n",
    "    \"\"\"\n",
    "    np.random.seed(seed)\n",
    "    \n",
    "    agents=[Agent(AlphaBetaPlayer(score_fn=improved_score), \"AB_Improved\")]\n",
    "    desc=[pd.DataFrame({'Agent Type':\"AB_Improved\", 'K':1, 'Lambda':1, 'Weight':1},index =[1])]\n",
    "    \n",
    "    for f in [random_improved_weighted_agents,random_improved_weighted_center_agents]:# , random_exponential_agents]:\n",
    "        \n",
    "    \n",
    "        a, d =  f(n)\n",
    "        agents.extend(a)\n",
    "        desc.append(d)\n",
    "    return agents, pd.concat(desc).reset_index(drop=True)\n",
    "    "
   ]
  },
  {
   "cell_type": "code",
   "execution_count": 3,
   "metadata": {
    "collapsed": false,
    "deletable": true,
    "editable": true
   },
   "outputs": [],
   "source": [
    "def main(n=10, seed=123):\n",
    "    # Define a collection of agents to compete against the test agents\n",
    "    cpu_agents = [\n",
    "        Agent(RandomPlayer(), \"Random\"),\n",
    "        Agent(MinimaxPlayer(score_fn=open_move_score), \"MM_Open\"),\n",
    "        Agent(MinimaxPlayer(score_fn=center_score), \"MM_Center\"),\n",
    "        Agent(MinimaxPlayer(score_fn=improved_score), \"MM_Improved\"),\n",
    "        Agent(AlphaBetaPlayer(score_fn=open_move_score), \"AB_Open\"),\n",
    "        Agent(AlphaBetaPlayer(score_fn=center_score), \"AB_Center\"),\n",
    "        Agent(AlphaBetaPlayer(score_fn=improved_score), \"AB_Improved\")\n",
    "    ]\n",
    "    \n",
    "    test_agents, descriptions= create_random_test_agent_list(n,seed)\n",
    "    print('Total games per test agent is %d.'%(2*len(cpu_agents)*10))\n",
    "    print('The total number of games that will be played is %d'%(2*len(cpu_agents)*len(test_agents)*10))\n",
    "\n",
    "    \n",
    "    win_record=play_matches(test_agents,cpu_agents, num_matches=10, time_limit=150)\n",
    "    \n",
    "    return win_record,descriptions"
   ]
  },
  {
   "cell_type": "markdown",
   "metadata": {
    "collapsed": false,
    "deletable": true,
    "editable": true
   },
   "source": [
    "``` Python\n",
    "win_record, descriptions = main()\n",
    "win_record['total wins'] = win_record.iloc[:,:-2].sum(axis=1)\n",
    "win_record['Fraction Won'] = win_record['total wins']/(2*7*10)\n",
    "win_record = win_record.sort_values('Fraction Won', ascending = False)\n",
    "win_record['relative strength'] = win_record['Fraction Won']/win_record.loc['AB_Improved']['Fraction Won']\n",
    "win_record.to_csv('GameSimulationResults.csv')\n",
    "\n",
    "```"
   ]
  },
  {
   "cell_type": "code",
   "execution_count": 25,
   "metadata": {
    "collapsed": false,
    "deletable": true,
    "editable": true
   },
   "outputs": [
    {
     "data": {
      "text/html": [
       "<div>\n",
       "<table border=\"1\" class=\"dataframe\">\n",
       "  <thead>\n",
       "    <tr style=\"text-align: right;\">\n",
       "      <th></th>\n",
       "      <th>AB_Center</th>\n",
       "      <th>AB_Improved</th>\n",
       "      <th>AB_Open</th>\n",
       "      <th>MM_Center</th>\n",
       "      <th>MM_Improved</th>\n",
       "      <th>MM_Open</th>\n",
       "      <th>Random</th>\n",
       "      <th>total wins</th>\n",
       "      <th>Fraction Won</th>\n",
       "      <th>relative strength</th>\n",
       "    </tr>\n",
       "  </thead>\n",
       "  <tbody>\n",
       "    <tr>\n",
       "      <th>AB_WeightedImproved (w:2.268515)</th>\n",
       "      <td>15</td>\n",
       "      <td>15</td>\n",
       "      <td>11</td>\n",
       "      <td>17</td>\n",
       "      <td>16</td>\n",
       "      <td>16</td>\n",
       "      <td>18</td>\n",
       "      <td>216</td>\n",
       "      <td>1.542857</td>\n",
       "      <td>1.136842</td>\n",
       "    </tr>\n",
       "    <tr>\n",
       "      <th>AB_WeightedCenter (w:1.754518,lamba:0.228263)</th>\n",
       "      <td>13</td>\n",
       "      <td>12</td>\n",
       "      <td>12</td>\n",
       "      <td>18</td>\n",
       "      <td>17</td>\n",
       "      <td>15</td>\n",
       "      <td>20</td>\n",
       "      <td>214</td>\n",
       "      <td>1.528571</td>\n",
       "      <td>1.126316</td>\n",
       "    </tr>\n",
       "    <tr>\n",
       "      <th>AB_WeightedCenter (w:1.824917,lamba:0.361789)</th>\n",
       "      <td>8</td>\n",
       "      <td>14</td>\n",
       "      <td>14</td>\n",
       "      <td>17</td>\n",
       "      <td>16</td>\n",
       "      <td>18</td>\n",
       "      <td>19</td>\n",
       "      <td>212</td>\n",
       "      <td>1.514286</td>\n",
       "      <td>1.115789</td>\n",
       "    </tr>\n",
       "    <tr>\n",
       "      <th>AB_WeightedCenter (w:3.980443,lamba:0.722443)</th>\n",
       "      <td>11</td>\n",
       "      <td>9</td>\n",
       "      <td>7</td>\n",
       "      <td>19</td>\n",
       "      <td>15</td>\n",
       "      <td>19</td>\n",
       "      <td>19</td>\n",
       "      <td>198</td>\n",
       "      <td>1.414286</td>\n",
       "      <td>1.042105</td>\n",
       "    </tr>\n",
       "    <tr>\n",
       "      <th>AB_WeightedImproved (w:3.921175)</th>\n",
       "      <td>10</td>\n",
       "      <td>12</td>\n",
       "      <td>7</td>\n",
       "      <td>17</td>\n",
       "      <td>14</td>\n",
       "      <td>19</td>\n",
       "      <td>19</td>\n",
       "      <td>196</td>\n",
       "      <td>1.400000</td>\n",
       "      <td>1.031579</td>\n",
       "    </tr>\n",
       "    <tr>\n",
       "      <th>AB_WeightedCenter (w:7.379954,lamba:0.322959)</th>\n",
       "      <td>11</td>\n",
       "      <td>12</td>\n",
       "      <td>5</td>\n",
       "      <td>20</td>\n",
       "      <td>12</td>\n",
       "      <td>16</td>\n",
       "      <td>19</td>\n",
       "      <td>190</td>\n",
       "      <td>1.357143</td>\n",
       "      <td>1.000000</td>\n",
       "    </tr>\n",
       "    <tr>\n",
       "      <th>AB_Improved</th>\n",
       "      <td>15</td>\n",
       "      <td>9</td>\n",
       "      <td>9</td>\n",
       "      <td>17</td>\n",
       "      <td>15</td>\n",
       "      <td>11</td>\n",
       "      <td>19</td>\n",
       "      <td>190</td>\n",
       "      <td>1.357143</td>\n",
       "      <td>1.000000</td>\n",
       "    </tr>\n",
       "    <tr>\n",
       "      <th>AB_WeightedCenter (w:5.315514,lamba:0.293714)</th>\n",
       "      <td>10</td>\n",
       "      <td>9</td>\n",
       "      <td>10</td>\n",
       "      <td>17</td>\n",
       "      <td>13</td>\n",
       "      <td>18</td>\n",
       "      <td>18</td>\n",
       "      <td>190</td>\n",
       "      <td>1.357143</td>\n",
       "      <td>1.000000</td>\n",
       "    </tr>\n",
       "    <tr>\n",
       "      <th>AB_WeightedCenter (w:0.596779,lamba:0.611024)</th>\n",
       "      <td>10</td>\n",
       "      <td>10</td>\n",
       "      <td>7</td>\n",
       "      <td>18</td>\n",
       "      <td>15</td>\n",
       "      <td>15</td>\n",
       "      <td>19</td>\n",
       "      <td>188</td>\n",
       "      <td>1.342857</td>\n",
       "      <td>0.989474</td>\n",
       "    </tr>\n",
       "    <tr>\n",
       "      <th>AB_WeightedCenter (w:4.385722,lamba:0.724455)</th>\n",
       "      <td>7</td>\n",
       "      <td>9</td>\n",
       "      <td>7</td>\n",
       "      <td>17</td>\n",
       "      <td>16</td>\n",
       "      <td>17</td>\n",
       "      <td>20</td>\n",
       "      <td>186</td>\n",
       "      <td>1.328571</td>\n",
       "      <td>0.978947</td>\n",
       "    </tr>\n",
       "    <tr>\n",
       "      <th>AB_WeightedImproved (w:5.513148)</th>\n",
       "      <td>9</td>\n",
       "      <td>10</td>\n",
       "      <td>12</td>\n",
       "      <td>15</td>\n",
       "      <td>13</td>\n",
       "      <td>17</td>\n",
       "      <td>17</td>\n",
       "      <td>186</td>\n",
       "      <td>1.328571</td>\n",
       "      <td>0.978947</td>\n",
       "    </tr>\n",
       "    <tr>\n",
       "      <th>AB_WeightedCenter (w:7.290497,lamba:0.849432)</th>\n",
       "      <td>7</td>\n",
       "      <td>9</td>\n",
       "      <td>8</td>\n",
       "      <td>18</td>\n",
       "      <td>15</td>\n",
       "      <td>17</td>\n",
       "      <td>19</td>\n",
       "      <td>186</td>\n",
       "      <td>1.328571</td>\n",
       "      <td>0.978947</td>\n",
       "    </tr>\n",
       "    <tr>\n",
       "      <th>AB_WeightedImproved (w:4.809319)</th>\n",
       "      <td>8</td>\n",
       "      <td>8</td>\n",
       "      <td>6</td>\n",
       "      <td>19</td>\n",
       "      <td>14</td>\n",
       "      <td>18</td>\n",
       "      <td>19</td>\n",
       "      <td>184</td>\n",
       "      <td>1.314286</td>\n",
       "      <td>0.968421</td>\n",
       "    </tr>\n",
       "    <tr>\n",
       "      <th>AB_WeightedImproved (w:6.964692)</th>\n",
       "      <td>7</td>\n",
       "      <td>11</td>\n",
       "      <td>12</td>\n",
       "      <td>17</td>\n",
       "      <td>12</td>\n",
       "      <td>14</td>\n",
       "      <td>17</td>\n",
       "      <td>180</td>\n",
       "      <td>1.285714</td>\n",
       "      <td>0.947368</td>\n",
       "    </tr>\n",
       "    <tr>\n",
       "      <th>AB_WeightedImproved (w:4.231065)</th>\n",
       "      <td>13</td>\n",
       "      <td>8</td>\n",
       "      <td>7</td>\n",
       "      <td>19</td>\n",
       "      <td>11</td>\n",
       "      <td>14</td>\n",
       "      <td>18</td>\n",
       "      <td>180</td>\n",
       "      <td>1.285714</td>\n",
       "      <td>0.947368</td>\n",
       "    </tr>\n",
       "    <tr>\n",
       "      <th>AB_WeightedCenter (w:5.318276,lamba:0.630976)</th>\n",
       "      <td>11</td>\n",
       "      <td>9</td>\n",
       "      <td>9</td>\n",
       "      <td>17</td>\n",
       "      <td>14</td>\n",
       "      <td>14</td>\n",
       "      <td>16</td>\n",
       "      <td>180</td>\n",
       "      <td>1.285714</td>\n",
       "      <td>0.947368</td>\n",
       "    </tr>\n",
       "    <tr>\n",
       "      <th>AB_WeightedImproved (w:9.807642)</th>\n",
       "      <td>10</td>\n",
       "      <td>13</td>\n",
       "      <td>7</td>\n",
       "      <td>15</td>\n",
       "      <td>13</td>\n",
       "      <td>15</td>\n",
       "      <td>17</td>\n",
       "      <td>180</td>\n",
       "      <td>1.285714</td>\n",
       "      <td>0.947368</td>\n",
       "    </tr>\n",
       "    <tr>\n",
       "      <th>AB_WeightedCenter (w:3.431780,lamba:0.634401)</th>\n",
       "      <td>6</td>\n",
       "      <td>9</td>\n",
       "      <td>4</td>\n",
       "      <td>19</td>\n",
       "      <td>14</td>\n",
       "      <td>19</td>\n",
       "      <td>19</td>\n",
       "      <td>180</td>\n",
       "      <td>1.285714</td>\n",
       "      <td>0.947368</td>\n",
       "    </tr>\n",
       "    <tr>\n",
       "      <th>AB_Exp (k:2.038002)</th>\n",
       "      <td>9</td>\n",
       "      <td>10</td>\n",
       "      <td>8</td>\n",
       "      <td>16</td>\n",
       "      <td>12</td>\n",
       "      <td>16</td>\n",
       "      <td>18</td>\n",
       "      <td>178</td>\n",
       "      <td>1.271429</td>\n",
       "      <td>0.936842</td>\n",
       "    </tr>\n",
       "    <tr>\n",
       "      <th>AB_WeightedImproved (w:6.848297)</th>\n",
       "      <td>10</td>\n",
       "      <td>11</td>\n",
       "      <td>8</td>\n",
       "      <td>17</td>\n",
       "      <td>13</td>\n",
       "      <td>14</td>\n",
       "      <td>16</td>\n",
       "      <td>178</td>\n",
       "      <td>1.271429</td>\n",
       "      <td>0.936842</td>\n",
       "    </tr>\n",
       "    <tr>\n",
       "      <th>AB_Exp (k:1.924032)</th>\n",
       "      <td>7</td>\n",
       "      <td>11</td>\n",
       "      <td>6</td>\n",
       "      <td>16</td>\n",
       "      <td>16</td>\n",
       "      <td>14</td>\n",
       "      <td>18</td>\n",
       "      <td>176</td>\n",
       "      <td>1.257143</td>\n",
       "      <td>0.926316</td>\n",
       "    </tr>\n",
       "    <tr>\n",
       "      <th>AB_Exp (k:1.918639)</th>\n",
       "      <td>8</td>\n",
       "      <td>8</td>\n",
       "      <td>6</td>\n",
       "      <td>18</td>\n",
       "      <td>13</td>\n",
       "      <td>15</td>\n",
       "      <td>20</td>\n",
       "      <td>176</td>\n",
       "      <td>1.257143</td>\n",
       "      <td>0.926316</td>\n",
       "    </tr>\n",
       "    <tr>\n",
       "      <th>AB_WeightedImproved (w:7.194690)</th>\n",
       "      <td>14</td>\n",
       "      <td>5</td>\n",
       "      <td>7</td>\n",
       "      <td>17</td>\n",
       "      <td>12</td>\n",
       "      <td>13</td>\n",
       "      <td>19</td>\n",
       "      <td>174</td>\n",
       "      <td>1.242857</td>\n",
       "      <td>0.915789</td>\n",
       "    </tr>\n",
       "    <tr>\n",
       "      <th>AB_Exp (k:2.053490)</th>\n",
       "      <td>7</td>\n",
       "      <td>6</td>\n",
       "      <td>6</td>\n",
       "      <td>18</td>\n",
       "      <td>13</td>\n",
       "      <td>16</td>\n",
       "      <td>19</td>\n",
       "      <td>170</td>\n",
       "      <td>1.214286</td>\n",
       "      <td>0.894737</td>\n",
       "    </tr>\n",
       "    <tr>\n",
       "      <th>AB_Exp (k:2.797439)</th>\n",
       "      <td>8</td>\n",
       "      <td>9</td>\n",
       "      <td>6</td>\n",
       "      <td>16</td>\n",
       "      <td>12</td>\n",
       "      <td>13</td>\n",
       "      <td>20</td>\n",
       "      <td>168</td>\n",
       "      <td>1.200000</td>\n",
       "      <td>0.884211</td>\n",
       "    </tr>\n",
       "    <tr>\n",
       "      <th>AB_WeightedImproved (w:2.861393)</th>\n",
       "      <td>10</td>\n",
       "      <td>8</td>\n",
       "      <td>7</td>\n",
       "      <td>18</td>\n",
       "      <td>9</td>\n",
       "      <td>19</td>\n",
       "      <td>11</td>\n",
       "      <td>164</td>\n",
       "      <td>1.171429</td>\n",
       "      <td>0.863158</td>\n",
       "    </tr>\n",
       "    <tr>\n",
       "      <th>AB_Exp (k:1.693296)</th>\n",
       "      <td>7</td>\n",
       "      <td>6</td>\n",
       "      <td>9</td>\n",
       "      <td>16</td>\n",
       "      <td>11</td>\n",
       "      <td>15</td>\n",
       "      <td>17</td>\n",
       "      <td>162</td>\n",
       "      <td>1.157143</td>\n",
       "      <td>0.852632</td>\n",
       "    </tr>\n",
       "    <tr>\n",
       "      <th>AB_Exp (k:1.909078)</th>\n",
       "      <td>7</td>\n",
       "      <td>9</td>\n",
       "      <td>6</td>\n",
       "      <td>16</td>\n",
       "      <td>10</td>\n",
       "      <td>14</td>\n",
       "      <td>17</td>\n",
       "      <td>158</td>\n",
       "      <td>1.128571</td>\n",
       "      <td>0.831579</td>\n",
       "    </tr>\n",
       "    <tr>\n",
       "      <th>AB_Exp (k:1.274999)</th>\n",
       "      <td>8</td>\n",
       "      <td>6</td>\n",
       "      <td>8</td>\n",
       "      <td>16</td>\n",
       "      <td>14</td>\n",
       "      <td>9</td>\n",
       "      <td>18</td>\n",
       "      <td>158</td>\n",
       "      <td>1.128571</td>\n",
       "      <td>0.831579</td>\n",
       "    </tr>\n",
       "    <tr>\n",
       "      <th>AB_Exp (k:1.910067)</th>\n",
       "      <td>5</td>\n",
       "      <td>8</td>\n",
       "      <td>4</td>\n",
       "      <td>16</td>\n",
       "      <td>15</td>\n",
       "      <td>12</td>\n",
       "      <td>18</td>\n",
       "      <td>156</td>\n",
       "      <td>1.114286</td>\n",
       "      <td>0.821053</td>\n",
       "    </tr>\n",
       "    <tr>\n",
       "      <th>AB_Exp (k:2.893904)</th>\n",
       "      <td>6</td>\n",
       "      <td>5</td>\n",
       "      <td>7</td>\n",
       "      <td>13</td>\n",
       "      <td>13</td>\n",
       "      <td>14</td>\n",
       "      <td>19</td>\n",
       "      <td>154</td>\n",
       "      <td>1.100000</td>\n",
       "      <td>0.810526</td>\n",
       "    </tr>\n",
       "  </tbody>\n",
       "</table>\n",
       "</div>"
      ],
      "text/plain": [
       "                                               AB_Center  AB_Improved  \\\n",
       "AB_WeightedImproved (w:2.268515)                      15           15   \n",
       "AB_WeightedCenter (w:1.754518,lamba:0.228263)         13           12   \n",
       "AB_WeightedCenter (w:1.824917,lamba:0.361789)          8           14   \n",
       "AB_WeightedCenter (w:3.980443,lamba:0.722443)         11            9   \n",
       "AB_WeightedImproved (w:3.921175)                      10           12   \n",
       "AB_WeightedCenter (w:7.379954,lamba:0.322959)         11           12   \n",
       "AB_Improved                                           15            9   \n",
       "AB_WeightedCenter (w:5.315514,lamba:0.293714)         10            9   \n",
       "AB_WeightedCenter (w:0.596779,lamba:0.611024)         10           10   \n",
       "AB_WeightedCenter (w:4.385722,lamba:0.724455)          7            9   \n",
       "AB_WeightedImproved (w:5.513148)                       9           10   \n",
       "AB_WeightedCenter (w:7.290497,lamba:0.849432)          7            9   \n",
       "AB_WeightedImproved (w:4.809319)                       8            8   \n",
       "AB_WeightedImproved (w:6.964692)                       7           11   \n",
       "AB_WeightedImproved (w:4.231065)                      13            8   \n",
       "AB_WeightedCenter (w:5.318276,lamba:0.630976)         11            9   \n",
       "AB_WeightedImproved (w:9.807642)                      10           13   \n",
       "AB_WeightedCenter (w:3.431780,lamba:0.634401)          6            9   \n",
       "AB_Exp (k:2.038002)                                    9           10   \n",
       "AB_WeightedImproved (w:6.848297)                      10           11   \n",
       "AB_Exp (k:1.924032)                                    7           11   \n",
       "AB_Exp (k:1.918639)                                    8            8   \n",
       "AB_WeightedImproved (w:7.194690)                      14            5   \n",
       "AB_Exp (k:2.053490)                                    7            6   \n",
       "AB_Exp (k:2.797439)                                    8            9   \n",
       "AB_WeightedImproved (w:2.861393)                      10            8   \n",
       "AB_Exp (k:1.693296)                                    7            6   \n",
       "AB_Exp (k:1.909078)                                    7            9   \n",
       "AB_Exp (k:1.274999)                                    8            6   \n",
       "AB_Exp (k:1.910067)                                    5            8   \n",
       "AB_Exp (k:2.893904)                                    6            5   \n",
       "\n",
       "                                               AB_Open  MM_Center  \\\n",
       "AB_WeightedImproved (w:2.268515)                    11         17   \n",
       "AB_WeightedCenter (w:1.754518,lamba:0.228263)       12         18   \n",
       "AB_WeightedCenter (w:1.824917,lamba:0.361789)       14         17   \n",
       "AB_WeightedCenter (w:3.980443,lamba:0.722443)        7         19   \n",
       "AB_WeightedImproved (w:3.921175)                     7         17   \n",
       "AB_WeightedCenter (w:7.379954,lamba:0.322959)        5         20   \n",
       "AB_Improved                                          9         17   \n",
       "AB_WeightedCenter (w:5.315514,lamba:0.293714)       10         17   \n",
       "AB_WeightedCenter (w:0.596779,lamba:0.611024)        7         18   \n",
       "AB_WeightedCenter (w:4.385722,lamba:0.724455)        7         17   \n",
       "AB_WeightedImproved (w:5.513148)                    12         15   \n",
       "AB_WeightedCenter (w:7.290497,lamba:0.849432)        8         18   \n",
       "AB_WeightedImproved (w:4.809319)                     6         19   \n",
       "AB_WeightedImproved (w:6.964692)                    12         17   \n",
       "AB_WeightedImproved (w:4.231065)                     7         19   \n",
       "AB_WeightedCenter (w:5.318276,lamba:0.630976)        9         17   \n",
       "AB_WeightedImproved (w:9.807642)                     7         15   \n",
       "AB_WeightedCenter (w:3.431780,lamba:0.634401)        4         19   \n",
       "AB_Exp (k:2.038002)                                  8         16   \n",
       "AB_WeightedImproved (w:6.848297)                     8         17   \n",
       "AB_Exp (k:1.924032)                                  6         16   \n",
       "AB_Exp (k:1.918639)                                  6         18   \n",
       "AB_WeightedImproved (w:7.194690)                     7         17   \n",
       "AB_Exp (k:2.053490)                                  6         18   \n",
       "AB_Exp (k:2.797439)                                  6         16   \n",
       "AB_WeightedImproved (w:2.861393)                     7         18   \n",
       "AB_Exp (k:1.693296)                                  9         16   \n",
       "AB_Exp (k:1.909078)                                  6         16   \n",
       "AB_Exp (k:1.274999)                                  8         16   \n",
       "AB_Exp (k:1.910067)                                  4         16   \n",
       "AB_Exp (k:2.893904)                                  7         13   \n",
       "\n",
       "                                               MM_Improved  MM_Open  Random  \\\n",
       "AB_WeightedImproved (w:2.268515)                        16       16      18   \n",
       "AB_WeightedCenter (w:1.754518,lamba:0.228263)           17       15      20   \n",
       "AB_WeightedCenter (w:1.824917,lamba:0.361789)           16       18      19   \n",
       "AB_WeightedCenter (w:3.980443,lamba:0.722443)           15       19      19   \n",
       "AB_WeightedImproved (w:3.921175)                        14       19      19   \n",
       "AB_WeightedCenter (w:7.379954,lamba:0.322959)           12       16      19   \n",
       "AB_Improved                                             15       11      19   \n",
       "AB_WeightedCenter (w:5.315514,lamba:0.293714)           13       18      18   \n",
       "AB_WeightedCenter (w:0.596779,lamba:0.611024)           15       15      19   \n",
       "AB_WeightedCenter (w:4.385722,lamba:0.724455)           16       17      20   \n",
       "AB_WeightedImproved (w:5.513148)                        13       17      17   \n",
       "AB_WeightedCenter (w:7.290497,lamba:0.849432)           15       17      19   \n",
       "AB_WeightedImproved (w:4.809319)                        14       18      19   \n",
       "AB_WeightedImproved (w:6.964692)                        12       14      17   \n",
       "AB_WeightedImproved (w:4.231065)                        11       14      18   \n",
       "AB_WeightedCenter (w:5.318276,lamba:0.630976)           14       14      16   \n",
       "AB_WeightedImproved (w:9.807642)                        13       15      17   \n",
       "AB_WeightedCenter (w:3.431780,lamba:0.634401)           14       19      19   \n",
       "AB_Exp (k:2.038002)                                     12       16      18   \n",
       "AB_WeightedImproved (w:6.848297)                        13       14      16   \n",
       "AB_Exp (k:1.924032)                                     16       14      18   \n",
       "AB_Exp (k:1.918639)                                     13       15      20   \n",
       "AB_WeightedImproved (w:7.194690)                        12       13      19   \n",
       "AB_Exp (k:2.053490)                                     13       16      19   \n",
       "AB_Exp (k:2.797439)                                     12       13      20   \n",
       "AB_WeightedImproved (w:2.861393)                         9       19      11   \n",
       "AB_Exp (k:1.693296)                                     11       15      17   \n",
       "AB_Exp (k:1.909078)                                     10       14      17   \n",
       "AB_Exp (k:1.274999)                                     14        9      18   \n",
       "AB_Exp (k:1.910067)                                     15       12      18   \n",
       "AB_Exp (k:2.893904)                                     13       14      19   \n",
       "\n",
       "                                               total wins  Fraction Won  \\\n",
       "AB_WeightedImproved (w:2.268515)                      216      1.542857   \n",
       "AB_WeightedCenter (w:1.754518,lamba:0.228263)         214      1.528571   \n",
       "AB_WeightedCenter (w:1.824917,lamba:0.361789)         212      1.514286   \n",
       "AB_WeightedCenter (w:3.980443,lamba:0.722443)         198      1.414286   \n",
       "AB_WeightedImproved (w:3.921175)                      196      1.400000   \n",
       "AB_WeightedCenter (w:7.379954,lamba:0.322959)         190      1.357143   \n",
       "AB_Improved                                           190      1.357143   \n",
       "AB_WeightedCenter (w:5.315514,lamba:0.293714)         190      1.357143   \n",
       "AB_WeightedCenter (w:0.596779,lamba:0.611024)         188      1.342857   \n",
       "AB_WeightedCenter (w:4.385722,lamba:0.724455)         186      1.328571   \n",
       "AB_WeightedImproved (w:5.513148)                      186      1.328571   \n",
       "AB_WeightedCenter (w:7.290497,lamba:0.849432)         186      1.328571   \n",
       "AB_WeightedImproved (w:4.809319)                      184      1.314286   \n",
       "AB_WeightedImproved (w:6.964692)                      180      1.285714   \n",
       "AB_WeightedImproved (w:4.231065)                      180      1.285714   \n",
       "AB_WeightedCenter (w:5.318276,lamba:0.630976)         180      1.285714   \n",
       "AB_WeightedImproved (w:9.807642)                      180      1.285714   \n",
       "AB_WeightedCenter (w:3.431780,lamba:0.634401)         180      1.285714   \n",
       "AB_Exp (k:2.038002)                                   178      1.271429   \n",
       "AB_WeightedImproved (w:6.848297)                      178      1.271429   \n",
       "AB_Exp (k:1.924032)                                   176      1.257143   \n",
       "AB_Exp (k:1.918639)                                   176      1.257143   \n",
       "AB_WeightedImproved (w:7.194690)                      174      1.242857   \n",
       "AB_Exp (k:2.053490)                                   170      1.214286   \n",
       "AB_Exp (k:2.797439)                                   168      1.200000   \n",
       "AB_WeightedImproved (w:2.861393)                      164      1.171429   \n",
       "AB_Exp (k:1.693296)                                   162      1.157143   \n",
       "AB_Exp (k:1.909078)                                   158      1.128571   \n",
       "AB_Exp (k:1.274999)                                   158      1.128571   \n",
       "AB_Exp (k:1.910067)                                   156      1.114286   \n",
       "AB_Exp (k:2.893904)                                   154      1.100000   \n",
       "\n",
       "                                               relative strength  \n",
       "AB_WeightedImproved (w:2.268515)                        1.136842  \n",
       "AB_WeightedCenter (w:1.754518,lamba:0.228263)           1.126316  \n",
       "AB_WeightedCenter (w:1.824917,lamba:0.361789)           1.115789  \n",
       "AB_WeightedCenter (w:3.980443,lamba:0.722443)           1.042105  \n",
       "AB_WeightedImproved (w:3.921175)                        1.031579  \n",
       "AB_WeightedCenter (w:7.379954,lamba:0.322959)           1.000000  \n",
       "AB_Improved                                             1.000000  \n",
       "AB_WeightedCenter (w:5.315514,lamba:0.293714)           1.000000  \n",
       "AB_WeightedCenter (w:0.596779,lamba:0.611024)           0.989474  \n",
       "AB_WeightedCenter (w:4.385722,lamba:0.724455)           0.978947  \n",
       "AB_WeightedImproved (w:5.513148)                        0.978947  \n",
       "AB_WeightedCenter (w:7.290497,lamba:0.849432)           0.978947  \n",
       "AB_WeightedImproved (w:4.809319)                        0.968421  \n",
       "AB_WeightedImproved (w:6.964692)                        0.947368  \n",
       "AB_WeightedImproved (w:4.231065)                        0.947368  \n",
       "AB_WeightedCenter (w:5.318276,lamba:0.630976)           0.947368  \n",
       "AB_WeightedImproved (w:9.807642)                        0.947368  \n",
       "AB_WeightedCenter (w:3.431780,lamba:0.634401)           0.947368  \n",
       "AB_Exp (k:2.038002)                                     0.936842  \n",
       "AB_WeightedImproved (w:6.848297)                        0.936842  \n",
       "AB_Exp (k:1.924032)                                     0.926316  \n",
       "AB_Exp (k:1.918639)                                     0.926316  \n",
       "AB_WeightedImproved (w:7.194690)                        0.915789  \n",
       "AB_Exp (k:2.053490)                                     0.894737  \n",
       "AB_Exp (k:2.797439)                                     0.884211  \n",
       "AB_WeightedImproved (w:2.861393)                        0.863158  \n",
       "AB_Exp (k:1.693296)                                     0.852632  \n",
       "AB_Exp (k:1.909078)                                     0.831579  \n",
       "AB_Exp (k:1.274999)                                     0.831579  \n",
       "AB_Exp (k:1.910067)                                     0.821053  \n",
       "AB_Exp (k:2.893904)                                     0.810526  "
      ]
     },
     "execution_count": 25,
     "metadata": {},
     "output_type": "execute_result"
    }
   ],
   "source": [
    "win_record"
   ]
  },
  {
   "cell_type": "code",
   "execution_count": 30,
   "metadata": {
    "collapsed": false,
    "deletable": true,
    "editable": true
   },
   "outputs": [],
   "source": [
    "descriptions.to_csv('player_descriptions.csv')"
   ]
  },
  {
   "cell_type": "markdown",
   "metadata": {
    "deletable": true,
    "editable": true
   },
   "source": [
    "#### Simulate more agents."
   ]
  },
  {
   "cell_type": "code",
   "execution_count": 4,
   "metadata": {
    "collapsed": false,
    "deletable": true,
    "editable": true
   },
   "outputs": [
    {
     "name": "stdout",
     "output_type": "stream",
     "text": [
      "Total games per test agent is 140.\n",
      "The total number of games that will be played is 5740\n"
     ]
    },
    {
     "data": {
      "application/vnd.jupyter.widget-view+json": {
       "model_id": "c628728d28c94a2abb5fa567fdb5babc"
      }
     },
     "metadata": {},
     "output_type": "display_data"
    },
    {
     "data": {
      "application/vnd.jupyter.widget-view+json": {
       "model_id": "be90bfdaca534a9cb0cf3cd42faf35e5"
      }
     },
     "metadata": {},
     "output_type": "display_data"
    },
    {
     "data": {
      "application/vnd.jupyter.widget-view+json": {
       "model_id": "5c7004ca364d4b6387dd6753fee8e796"
      }
     },
     "metadata": {},
     "output_type": "display_data"
    },
    {
     "data": {
      "application/vnd.jupyter.widget-view+json": {
       "model_id": "04730e40261243639d8f9e7c7fa120a2"
      }
     },
     "metadata": {},
     "output_type": "display_data"
    },
    {
     "data": {
      "application/vnd.jupyter.widget-view+json": {
       "model_id": "1009a7dda44448b48347b11f770a39a3"
      }
     },
     "metadata": {},
     "output_type": "display_data"
    },
    {
     "data": {
      "application/vnd.jupyter.widget-view+json": {
       "model_id": "1cc4856f7b66409da432964e9baa85b8"
      }
     },
     "metadata": {},
     "output_type": "display_data"
    },
    {
     "data": {
      "application/vnd.jupyter.widget-view+json": {
       "model_id": "7e750eee56c84338bebf5b632c71abd2"
      }
     },
     "metadata": {},
     "output_type": "display_data"
    },
    {
     "data": {
      "application/vnd.jupyter.widget-view+json": {
       "model_id": "9ab09105b5374eebbeecca75820cac0c"
      }
     },
     "metadata": {},
     "output_type": "display_data"
    },
    {
     "data": {
      "application/vnd.jupyter.widget-view+json": {
       "model_id": "fce7b555f3124b8f8b9b0435a68062d4"
      }
     },
     "metadata": {},
     "output_type": "display_data"
    },
    {
     "data": {
      "application/vnd.jupyter.widget-view+json": {
       "model_id": "ebb58db6133c4c7f841b3ab12b3b0555"
      }
     },
     "metadata": {},
     "output_type": "display_data"
    },
    {
     "data": {
      "application/vnd.jupyter.widget-view+json": {
       "model_id": "e2909adc75184445b77dca0b723b2a6c"
      }
     },
     "metadata": {},
     "output_type": "display_data"
    },
    {
     "data": {
      "application/vnd.jupyter.widget-view+json": {
       "model_id": "d9cd313d4da3439fb97e91da7d9001db"
      }
     },
     "metadata": {},
     "output_type": "display_data"
    },
    {
     "data": {
      "application/vnd.jupyter.widget-view+json": {
       "model_id": "20bb6658395644c7b8e05d13ec94129f"
      }
     },
     "metadata": {},
     "output_type": "display_data"
    },
    {
     "data": {
      "application/vnd.jupyter.widget-view+json": {
       "model_id": "b069e856974c41268d845940ae8225d5"
      }
     },
     "metadata": {},
     "output_type": "display_data"
    },
    {
     "data": {
      "application/vnd.jupyter.widget-view+json": {
       "model_id": "6c714245bfdb4f7b9bb347a9d4c5c9d5"
      }
     },
     "metadata": {},
     "output_type": "display_data"
    },
    {
     "data": {
      "application/vnd.jupyter.widget-view+json": {
       "model_id": "b75eac9118994f88911423646fd5786c"
      }
     },
     "metadata": {},
     "output_type": "display_data"
    },
    {
     "data": {
      "application/vnd.jupyter.widget-view+json": {
       "model_id": "21ab52f549924a5b9740fb6882e3b854"
      }
     },
     "metadata": {},
     "output_type": "display_data"
    },
    {
     "data": {
      "application/vnd.jupyter.widget-view+json": {
       "model_id": "8cf484832fec44229232df9e129eb818"
      }
     },
     "metadata": {},
     "output_type": "display_data"
    },
    {
     "data": {
      "application/vnd.jupyter.widget-view+json": {
       "model_id": "32b8919dd64649b082d81b35bbc90100"
      }
     },
     "metadata": {},
     "output_type": "display_data"
    },
    {
     "data": {
      "application/vnd.jupyter.widget-view+json": {
       "model_id": "e16ca04c51b2467ebd1c9cfd5bf9c758"
      }
     },
     "metadata": {},
     "output_type": "display_data"
    },
    {
     "data": {
      "application/vnd.jupyter.widget-view+json": {
       "model_id": "36ef5e49ed8d41cfa6bd1724962ccb3b"
      }
     },
     "metadata": {},
     "output_type": "display_data"
    },
    {
     "data": {
      "application/vnd.jupyter.widget-view+json": {
       "model_id": "3a42075dd43943779e39872e6b2ea509"
      }
     },
     "metadata": {},
     "output_type": "display_data"
    },
    {
     "data": {
      "application/vnd.jupyter.widget-view+json": {
       "model_id": "659c7d0fff0d4ac0af07d08b21a78437"
      }
     },
     "metadata": {},
     "output_type": "display_data"
    },
    {
     "data": {
      "application/vnd.jupyter.widget-view+json": {
       "model_id": "af753b77afbc44ef82485a3dab1854b5"
      }
     },
     "metadata": {},
     "output_type": "display_data"
    },
    {
     "data": {
      "application/vnd.jupyter.widget-view+json": {
       "model_id": "95ec4118bd994ba6ad45abfc3854c7f4"
      }
     },
     "metadata": {},
     "output_type": "display_data"
    },
    {
     "data": {
      "application/vnd.jupyter.widget-view+json": {
       "model_id": "af6c9efdd8214c61b53b4d88a929787c"
      }
     },
     "metadata": {},
     "output_type": "display_data"
    },
    {
     "data": {
      "application/vnd.jupyter.widget-view+json": {
       "model_id": "2d53197d80df46fc93c10a3bef8384a6"
      }
     },
     "metadata": {},
     "output_type": "display_data"
    },
    {
     "data": {
      "application/vnd.jupyter.widget-view+json": {
       "model_id": "7531a10a8dea4c618ccaf536d1748b4c"
      }
     },
     "metadata": {},
     "output_type": "display_data"
    },
    {
     "data": {
      "application/vnd.jupyter.widget-view+json": {
       "model_id": "c05840cfa2fc4ba59d315e0566a4c26f"
      }
     },
     "metadata": {},
     "output_type": "display_data"
    },
    {
     "data": {
      "application/vnd.jupyter.widget-view+json": {
       "model_id": "7093cf3c71574d5288501a6c369552d5"
      }
     },
     "metadata": {},
     "output_type": "display_data"
    },
    {
     "data": {
      "application/vnd.jupyter.widget-view+json": {
       "model_id": "37dd25db50e9455494587227c5cd2846"
      }
     },
     "metadata": {},
     "output_type": "display_data"
    },
    {
     "data": {
      "application/vnd.jupyter.widget-view+json": {
       "model_id": "f21eb7aad1304b0e8e015580da11faa0"
      }
     },
     "metadata": {},
     "output_type": "display_data"
    },
    {
     "data": {
      "application/vnd.jupyter.widget-view+json": {
       "model_id": "8a446ed5f01643549b390116d2de8652"
      }
     },
     "metadata": {},
     "output_type": "display_data"
    },
    {
     "data": {
      "application/vnd.jupyter.widget-view+json": {
       "model_id": "7ba4e68b8d684a77a7f470cfea1c2eaf"
      }
     },
     "metadata": {},
     "output_type": "display_data"
    },
    {
     "data": {
      "application/vnd.jupyter.widget-view+json": {
       "model_id": "7ced0ddefabd429d8f22bb5de54e1d37"
      }
     },
     "metadata": {},
     "output_type": "display_data"
    },
    {
     "data": {
      "application/vnd.jupyter.widget-view+json": {
       "model_id": "88dbf8a613d2477badae0665ca362831"
      }
     },
     "metadata": {},
     "output_type": "display_data"
    },
    {
     "data": {
      "application/vnd.jupyter.widget-view+json": {
       "model_id": "0e048d54e87442e58196dbd8e0884759"
      }
     },
     "metadata": {},
     "output_type": "display_data"
    },
    {
     "data": {
      "application/vnd.jupyter.widget-view+json": {
       "model_id": "661604fd26b448458353e9c5f13515b6"
      }
     },
     "metadata": {},
     "output_type": "display_data"
    },
    {
     "data": {
      "application/vnd.jupyter.widget-view+json": {
       "model_id": "194616f816e14ddb8a7e390421d897ab"
      }
     },
     "metadata": {},
     "output_type": "display_data"
    },
    {
     "data": {
      "application/vnd.jupyter.widget-view+json": {
       "model_id": "dd55d2fe2ed94f209ee8753e62a0df98"
      }
     },
     "metadata": {},
     "output_type": "display_data"
    },
    {
     "data": {
      "application/vnd.jupyter.widget-view+json": {
       "model_id": "8ae4591566ef4d27a671403fdb88d17f"
      }
     },
     "metadata": {},
     "output_type": "display_data"
    },
    {
     "data": {
      "application/vnd.jupyter.widget-view+json": {
       "model_id": "27c5f0edef7a4328bf74527226bf7edb"
      }
     },
     "metadata": {},
     "output_type": "display_data"
    },
    {
     "data": {
      "application/vnd.jupyter.widget-view+json": {
       "model_id": "512885e5b501419887aa9fd7fe171510"
      }
     },
     "metadata": {},
     "output_type": "display_data"
    },
    {
     "data": {
      "application/vnd.jupyter.widget-view+json": {
       "model_id": "4f7fd83bf00a440184e60db5a8f1dc73"
      }
     },
     "metadata": {},
     "output_type": "display_data"
    },
    {
     "data": {
      "application/vnd.jupyter.widget-view+json": {
       "model_id": "ad5ee8a8a52b40488b2974d1143cc302"
      }
     },
     "metadata": {},
     "output_type": "display_data"
    },
    {
     "data": {
      "application/vnd.jupyter.widget-view+json": {
       "model_id": "060c613fb4c447c9a76103f68e07b532"
      }
     },
     "metadata": {},
     "output_type": "display_data"
    },
    {
     "data": {
      "application/vnd.jupyter.widget-view+json": {
       "model_id": "6ddd5c0fc3194bc9b6e94b6e848321f5"
      }
     },
     "metadata": {},
     "output_type": "display_data"
    },
    {
     "data": {
      "application/vnd.jupyter.widget-view+json": {
       "model_id": "41e671528c7246dd834cd58be3312396"
      }
     },
     "metadata": {},
     "output_type": "display_data"
    },
    {
     "data": {
      "application/vnd.jupyter.widget-view+json": {
       "model_id": "f372ad4ae55e428cb7b038da0267bd2c"
      }
     },
     "metadata": {},
     "output_type": "display_data"
    },
    {
     "data": {
      "application/vnd.jupyter.widget-view+json": {
       "model_id": "d82d5816ccd945fb9003544ea9b7ba82"
      }
     },
     "metadata": {},
     "output_type": "display_data"
    },
    {
     "data": {
      "application/vnd.jupyter.widget-view+json": {
       "model_id": "df518ac8c3cb41b3961ec6e5bdd21f3a"
      }
     },
     "metadata": {},
     "output_type": "display_data"
    },
    {
     "data": {
      "application/vnd.jupyter.widget-view+json": {
       "model_id": "3a4edc671dd442bd81b756cdbfd741d8"
      }
     },
     "metadata": {},
     "output_type": "display_data"
    },
    {
     "data": {
      "application/vnd.jupyter.widget-view+json": {
       "model_id": "665fe03603f340f3a6985b21a2141663"
      }
     },
     "metadata": {},
     "output_type": "display_data"
    },
    {
     "data": {
      "application/vnd.jupyter.widget-view+json": {
       "model_id": "1a88fbab6efb48289c87e22e417d4a5a"
      }
     },
     "metadata": {},
     "output_type": "display_data"
    },
    {
     "data": {
      "application/vnd.jupyter.widget-view+json": {
       "model_id": "7409ffb39dd3493c9366db722fdc0172"
      }
     },
     "metadata": {},
     "output_type": "display_data"
    },
    {
     "data": {
      "application/vnd.jupyter.widget-view+json": {
       "model_id": "0ac9acb277ba4112b265806df21d7757"
      }
     },
     "metadata": {},
     "output_type": "display_data"
    },
    {
     "data": {
      "application/vnd.jupyter.widget-view+json": {
       "model_id": "1ec28237c02c419b8a45624428bcdc01"
      }
     },
     "metadata": {},
     "output_type": "display_data"
    },
    {
     "data": {
      "application/vnd.jupyter.widget-view+json": {
       "model_id": "6ff735ae38dd4080a1783a9725611692"
      }
     },
     "metadata": {},
     "output_type": "display_data"
    },
    {
     "data": {
      "application/vnd.jupyter.widget-view+json": {
       "model_id": "f4726a957f96473492a173e025870295"
      }
     },
     "metadata": {},
     "output_type": "display_data"
    },
    {
     "data": {
      "application/vnd.jupyter.widget-view+json": {
       "model_id": "57061c12f9434ca08f43405219d6acf0"
      }
     },
     "metadata": {},
     "output_type": "display_data"
    },
    {
     "data": {
      "application/vnd.jupyter.widget-view+json": {
       "model_id": "02cb6da3c2064c92a4edfce6033df628"
      }
     },
     "metadata": {},
     "output_type": "display_data"
    },
    {
     "data": {
      "application/vnd.jupyter.widget-view+json": {
       "model_id": "c03249617ab64ed99e4974dbc4f83ec6"
      }
     },
     "metadata": {},
     "output_type": "display_data"
    },
    {
     "data": {
      "application/vnd.jupyter.widget-view+json": {
       "model_id": "b171a75cc3ec4afb8555e55f86024d81"
      }
     },
     "metadata": {},
     "output_type": "display_data"
    },
    {
     "data": {
      "application/vnd.jupyter.widget-view+json": {
       "model_id": "c56d91e766754f408c4996b81c245328"
      }
     },
     "metadata": {},
     "output_type": "display_data"
    },
    {
     "data": {
      "application/vnd.jupyter.widget-view+json": {
       "model_id": "f655515a41a14ff68be5fe38ce9b6ffe"
      }
     },
     "metadata": {},
     "output_type": "display_data"
    },
    {
     "data": {
      "application/vnd.jupyter.widget-view+json": {
       "model_id": "16fad2d938ae4c00aa01ea1855e00018"
      }
     },
     "metadata": {},
     "output_type": "display_data"
    },
    {
     "data": {
      "application/vnd.jupyter.widget-view+json": {
       "model_id": "df402afcfea4429893c1be0290aeda19"
      }
     },
     "metadata": {},
     "output_type": "display_data"
    },
    {
     "data": {
      "application/vnd.jupyter.widget-view+json": {
       "model_id": "7516681a35fb4325a8d960585c600df6"
      }
     },
     "metadata": {},
     "output_type": "display_data"
    },
    {
     "data": {
      "application/vnd.jupyter.widget-view+json": {
       "model_id": "963e8f7056c94293b9b18ce1f4a67a74"
      }
     },
     "metadata": {},
     "output_type": "display_data"
    },
    {
     "data": {
      "application/vnd.jupyter.widget-view+json": {
       "model_id": "8f218727bda1455492702629e011b716"
      }
     },
     "metadata": {},
     "output_type": "display_data"
    },
    {
     "data": {
      "application/vnd.jupyter.widget-view+json": {
       "model_id": "f8db85f8f4bd405a90372c75c3c5a9d3"
      }
     },
     "metadata": {},
     "output_type": "display_data"
    },
    {
     "data": {
      "application/vnd.jupyter.widget-view+json": {
       "model_id": "16f3ee75cb044e28a14c5935f4bbafdf"
      }
     },
     "metadata": {},
     "output_type": "display_data"
    },
    {
     "data": {
      "application/vnd.jupyter.widget-view+json": {
       "model_id": "e35afd9d7d7c45cf8459c59be1995365"
      }
     },
     "metadata": {},
     "output_type": "display_data"
    },
    {
     "data": {
      "application/vnd.jupyter.widget-view+json": {
       "model_id": "c6b28d2bfce64838958879f988aa5c94"
      }
     },
     "metadata": {},
     "output_type": "display_data"
    },
    {
     "data": {
      "application/vnd.jupyter.widget-view+json": {
       "model_id": "82afacc3476e4a38a6cbbd33b8e19244"
      }
     },
     "metadata": {},
     "output_type": "display_data"
    },
    {
     "data": {
      "application/vnd.jupyter.widget-view+json": {
       "model_id": "065d957752c94f0a86cd3ae376293fbd"
      }
     },
     "metadata": {},
     "output_type": "display_data"
    },
    {
     "data": {
      "application/vnd.jupyter.widget-view+json": {
       "model_id": "ba02cf28eebf40f1ae1d9dc42da6993d"
      }
     },
     "metadata": {},
     "output_type": "display_data"
    },
    {
     "data": {
      "application/vnd.jupyter.widget-view+json": {
       "model_id": "3aff755aeb6d4d86ab23a4db5475adf9"
      }
     },
     "metadata": {},
     "output_type": "display_data"
    },
    {
     "data": {
      "application/vnd.jupyter.widget-view+json": {
       "model_id": "ac0fab01a4dc4e298ccc537489305db6"
      }
     },
     "metadata": {},
     "output_type": "display_data"
    },
    {
     "data": {
      "application/vnd.jupyter.widget-view+json": {
       "model_id": "66072222d38c4e838bc2badb2c64ca37"
      }
     },
     "metadata": {},
     "output_type": "display_data"
    },
    {
     "data": {
      "application/vnd.jupyter.widget-view+json": {
       "model_id": "5d231954b7264838a55deace62c1ee18"
      }
     },
     "metadata": {},
     "output_type": "display_data"
    },
    {
     "data": {
      "application/vnd.jupyter.widget-view+json": {
       "model_id": "105aab1ab89a45b8bbf7d1d955bc531b"
      }
     },
     "metadata": {},
     "output_type": "display_data"
    },
    {
     "data": {
      "application/vnd.jupyter.widget-view+json": {
       "model_id": "9f8d1cfe113743f59841b756e0c762c3"
      }
     },
     "metadata": {},
     "output_type": "display_data"
    },
    {
     "data": {
      "application/vnd.jupyter.widget-view+json": {
       "model_id": "2099f02887774c6988be3f87bb542e38"
      }
     },
     "metadata": {},
     "output_type": "display_data"
    },
    {
     "data": {
      "application/vnd.jupyter.widget-view+json": {
       "model_id": "320fb0acdf4e4bdeb9f8dea835df6b31"
      }
     },
     "metadata": {},
     "output_type": "display_data"
    },
    {
     "data": {
      "application/vnd.jupyter.widget-view+json": {
       "model_id": "895633484df744dd91c4de2b72841570"
      }
     },
     "metadata": {},
     "output_type": "display_data"
    },
    {
     "data": {
      "application/vnd.jupyter.widget-view+json": {
       "model_id": "831a29a44ff74c489466b0c23920f089"
      }
     },
     "metadata": {},
     "output_type": "display_data"
    },
    {
     "data": {
      "application/vnd.jupyter.widget-view+json": {
       "model_id": "1d70d5d4c2da4f03ad6f842c76579955"
      }
     },
     "metadata": {},
     "output_type": "display_data"
    },
    {
     "data": {
      "application/vnd.jupyter.widget-view+json": {
       "model_id": "2b7839815e164cb79903097ad4e9e51e"
      }
     },
     "metadata": {},
     "output_type": "display_data"
    },
    {
     "data": {
      "application/vnd.jupyter.widget-view+json": {
       "model_id": "ca811de7f04e4e57850fee5a071fabb3"
      }
     },
     "metadata": {},
     "output_type": "display_data"
    },
    {
     "data": {
      "application/vnd.jupyter.widget-view+json": {
       "model_id": "c0ceb34dccc64040a8c71e00d2ab4cf4"
      }
     },
     "metadata": {},
     "output_type": "display_data"
    },
    {
     "data": {
      "application/vnd.jupyter.widget-view+json": {
       "model_id": "99e7eed34d5e4766b4dbd3807237a25b"
      }
     },
     "metadata": {},
     "output_type": "display_data"
    },
    {
     "data": {
      "application/vnd.jupyter.widget-view+json": {
       "model_id": "ab3d8dd046714b33852267e9398a0261"
      }
     },
     "metadata": {},
     "output_type": "display_data"
    },
    {
     "data": {
      "application/vnd.jupyter.widget-view+json": {
       "model_id": "5705a076344e4e9a919222db1e203551"
      }
     },
     "metadata": {},
     "output_type": "display_data"
    },
    {
     "data": {
      "application/vnd.jupyter.widget-view+json": {
       "model_id": "272d1efb53274ae29ba907788e3a21e0"
      }
     },
     "metadata": {},
     "output_type": "display_data"
    },
    {
     "data": {
      "application/vnd.jupyter.widget-view+json": {
       "model_id": "7e1b0baf4dc54b139c0acf67bd082f8f"
      }
     },
     "metadata": {},
     "output_type": "display_data"
    },
    {
     "data": {
      "application/vnd.jupyter.widget-view+json": {
       "model_id": "b88c15e36d994ae7ad1c95b4462df465"
      }
     },
     "metadata": {},
     "output_type": "display_data"
    },
    {
     "data": {
      "application/vnd.jupyter.widget-view+json": {
       "model_id": "ea0ba43cc6ba4667914da45e6a46ed77"
      }
     },
     "metadata": {},
     "output_type": "display_data"
    },
    {
     "data": {
      "application/vnd.jupyter.widget-view+json": {
       "model_id": "395113004a0f46708ea34cb7808f76e6"
      }
     },
     "metadata": {},
     "output_type": "display_data"
    },
    {
     "data": {
      "application/vnd.jupyter.widget-view+json": {
       "model_id": "100971b31b884ce58904474976ade58b"
      }
     },
     "metadata": {},
     "output_type": "display_data"
    },
    {
     "data": {
      "application/vnd.jupyter.widget-view+json": {
       "model_id": "e416eb9b788c4747b95b16671988725e"
      }
     },
     "metadata": {},
     "output_type": "display_data"
    },
    {
     "data": {
      "application/vnd.jupyter.widget-view+json": {
       "model_id": "744e6abee94f4fe88c3811e9422577af"
      }
     },
     "metadata": {},
     "output_type": "display_data"
    },
    {
     "data": {
      "application/vnd.jupyter.widget-view+json": {
       "model_id": "c8dfee9a1a9c4dae9bd8d9cdf7ed344d"
      }
     },
     "metadata": {},
     "output_type": "display_data"
    },
    {
     "data": {
      "application/vnd.jupyter.widget-view+json": {
       "model_id": "3a9abeae40a845b8a3efd285db05735f"
      }
     },
     "metadata": {},
     "output_type": "display_data"
    },
    {
     "data": {
      "application/vnd.jupyter.widget-view+json": {
       "model_id": "bf6b44004ad04d9f90052186b5c3c7da"
      }
     },
     "metadata": {},
     "output_type": "display_data"
    },
    {
     "data": {
      "application/vnd.jupyter.widget-view+json": {
       "model_id": "eb004128d12449559f9fea339ec3249f"
      }
     },
     "metadata": {},
     "output_type": "display_data"
    },
    {
     "data": {
      "application/vnd.jupyter.widget-view+json": {
       "model_id": "bb6fbfd9be1b4ff797148af45081f68b"
      }
     },
     "metadata": {},
     "output_type": "display_data"
    },
    {
     "data": {
      "application/vnd.jupyter.widget-view+json": {
       "model_id": "7d530d0518d644219ed0f755d3281d70"
      }
     },
     "metadata": {},
     "output_type": "display_data"
    },
    {
     "data": {
      "application/vnd.jupyter.widget-view+json": {
       "model_id": "bc962ad72bb04e149af85f671f142697"
      }
     },
     "metadata": {},
     "output_type": "display_data"
    },
    {
     "data": {
      "application/vnd.jupyter.widget-view+json": {
       "model_id": "ba56acbd4330441a8f49a488db9412fa"
      }
     },
     "metadata": {},
     "output_type": "display_data"
    },
    {
     "data": {
      "application/vnd.jupyter.widget-view+json": {
       "model_id": "b425c853d40b4bc4ba96043cdb1aa232"
      }
     },
     "metadata": {},
     "output_type": "display_data"
    },
    {
     "data": {
      "application/vnd.jupyter.widget-view+json": {
       "model_id": "aa65250812d645579764d82b45828e72"
      }
     },
     "metadata": {},
     "output_type": "display_data"
    },
    {
     "data": {
      "application/vnd.jupyter.widget-view+json": {
       "model_id": "2c78ad48ff714d7ba64bc9c515e9ddb6"
      }
     },
     "metadata": {},
     "output_type": "display_data"
    },
    {
     "data": {
      "application/vnd.jupyter.widget-view+json": {
       "model_id": "8578a85a9afd45c596a454d1d52e1947"
      }
     },
     "metadata": {},
     "output_type": "display_data"
    },
    {
     "data": {
      "application/vnd.jupyter.widget-view+json": {
       "model_id": "3813f942a9664b788a384bc8eda57c22"
      }
     },
     "metadata": {},
     "output_type": "display_data"
    },
    {
     "data": {
      "application/vnd.jupyter.widget-view+json": {
       "model_id": "62ab585e40b14af1820ada4399735aad"
      }
     },
     "metadata": {},
     "output_type": "display_data"
    },
    {
     "data": {
      "application/vnd.jupyter.widget-view+json": {
       "model_id": "a2f75688e6374b5bb07738b32424710f"
      }
     },
     "metadata": {},
     "output_type": "display_data"
    },
    {
     "data": {
      "application/vnd.jupyter.widget-view+json": {
       "model_id": "b8e667a67df44c0f871d2cd01c28b1a4"
      }
     },
     "metadata": {},
     "output_type": "display_data"
    },
    {
     "data": {
      "application/vnd.jupyter.widget-view+json": {
       "model_id": "08aca96eb44549bfacaa64e81eebb7f0"
      }
     },
     "metadata": {},
     "output_type": "display_data"
    },
    {
     "data": {
      "application/vnd.jupyter.widget-view+json": {
       "model_id": "afaf356dfdc24b2aab8eb6888c47bf73"
      }
     },
     "metadata": {},
     "output_type": "display_data"
    },
    {
     "data": {
      "application/vnd.jupyter.widget-view+json": {
       "model_id": "211c9e03014143cc97b3594b94acf2d0"
      }
     },
     "metadata": {},
     "output_type": "display_data"
    },
    {
     "data": {
      "application/vnd.jupyter.widget-view+json": {
       "model_id": "93bfd91575704e7d97353ff89ce924a1"
      }
     },
     "metadata": {},
     "output_type": "display_data"
    },
    {
     "data": {
      "application/vnd.jupyter.widget-view+json": {
       "model_id": "26808dbe62a54e218ce9c5f6a34ec50d"
      }
     },
     "metadata": {},
     "output_type": "display_data"
    },
    {
     "data": {
      "application/vnd.jupyter.widget-view+json": {
       "model_id": "f203e9d3a83a45469fdde27fd625f949"
      }
     },
     "metadata": {},
     "output_type": "display_data"
    },
    {
     "data": {
      "application/vnd.jupyter.widget-view+json": {
       "model_id": "03ac48e9ede04452b40569e74916b56a"
      }
     },
     "metadata": {},
     "output_type": "display_data"
    },
    {
     "data": {
      "application/vnd.jupyter.widget-view+json": {
       "model_id": "820e63434aca4fdba70fb78440c4b38f"
      }
     },
     "metadata": {},
     "output_type": "display_data"
    },
    {
     "data": {
      "application/vnd.jupyter.widget-view+json": {
       "model_id": "65599d9e9c104f46a99c15a865677f7b"
      }
     },
     "metadata": {},
     "output_type": "display_data"
    },
    {
     "data": {
      "application/vnd.jupyter.widget-view+json": {
       "model_id": "69aea026f4dc4ee6a3e2fd2199336f46"
      }
     },
     "metadata": {},
     "output_type": "display_data"
    },
    {
     "data": {
      "application/vnd.jupyter.widget-view+json": {
       "model_id": "6bdff7090b3348c888e0ae33016fca24"
      }
     },
     "metadata": {},
     "output_type": "display_data"
    },
    {
     "data": {
      "application/vnd.jupyter.widget-view+json": {
       "model_id": "5e12a77b2d334385b6451a0912914d54"
      }
     },
     "metadata": {},
     "output_type": "display_data"
    },
    {
     "data": {
      "application/vnd.jupyter.widget-view+json": {
       "model_id": "54e2f8c9a7d94f5e94e1f823d66a6ce8"
      }
     },
     "metadata": {},
     "output_type": "display_data"
    },
    {
     "data": {
      "application/vnd.jupyter.widget-view+json": {
       "model_id": "6c29c231d5c644838f643258f4ba927a"
      }
     },
     "metadata": {},
     "output_type": "display_data"
    },
    {
     "data": {
      "application/vnd.jupyter.widget-view+json": {
       "model_id": "196675940d5f40a696597dd67ab7a850"
      }
     },
     "metadata": {},
     "output_type": "display_data"
    },
    {
     "data": {
      "application/vnd.jupyter.widget-view+json": {
       "model_id": "fc0373e9f5b74cedb6fe451e526200ff"
      }
     },
     "metadata": {},
     "output_type": "display_data"
    },
    {
     "data": {
      "application/vnd.jupyter.widget-view+json": {
       "model_id": "da20bfc8013049eabdbfb30619df7537"
      }
     },
     "metadata": {},
     "output_type": "display_data"
    },
    {
     "data": {
      "application/vnd.jupyter.widget-view+json": {
       "model_id": "c7311066f8cb4af2a43a72f11818e7a6"
      }
     },
     "metadata": {},
     "output_type": "display_data"
    },
    {
     "data": {
      "application/vnd.jupyter.widget-view+json": {
       "model_id": "304fcf9cfcc64bb8a24f170c0f8ffe5f"
      }
     },
     "metadata": {},
     "output_type": "display_data"
    },
    {
     "data": {
      "application/vnd.jupyter.widget-view+json": {
       "model_id": "f0a1d0643a9843769667175c167c96c4"
      }
     },
     "metadata": {},
     "output_type": "display_data"
    },
    {
     "data": {
      "application/vnd.jupyter.widget-view+json": {
       "model_id": "230634f4b90a470a8f81266d7e1c29e8"
      }
     },
     "metadata": {},
     "output_type": "display_data"
    },
    {
     "data": {
      "application/vnd.jupyter.widget-view+json": {
       "model_id": "4dfe40cca1244bad9514b154ac2da66e"
      }
     },
     "metadata": {},
     "output_type": "display_data"
    },
    {
     "data": {
      "application/vnd.jupyter.widget-view+json": {
       "model_id": "66e2ecc97ec84ffd851166f28e40c158"
      }
     },
     "metadata": {},
     "output_type": "display_data"
    },
    {
     "data": {
      "application/vnd.jupyter.widget-view+json": {
       "model_id": "7057eabb84e94cf0bb9a1ac967cdfc01"
      }
     },
     "metadata": {},
     "output_type": "display_data"
    },
    {
     "data": {
      "application/vnd.jupyter.widget-view+json": {
       "model_id": "91941c4c25254cf3806ad7b1e4f5220f"
      }
     },
     "metadata": {},
     "output_type": "display_data"
    },
    {
     "data": {
      "application/vnd.jupyter.widget-view+json": {
       "model_id": "ef7dbe0933054fdcafa661284ad0f986"
      }
     },
     "metadata": {},
     "output_type": "display_data"
    },
    {
     "data": {
      "application/vnd.jupyter.widget-view+json": {
       "model_id": "42956739ff6b4d14a8b012967c1601f0"
      }
     },
     "metadata": {},
     "output_type": "display_data"
    },
    {
     "data": {
      "application/vnd.jupyter.widget-view+json": {
       "model_id": "4cdd216942e94720b9f873ae50900686"
      }
     },
     "metadata": {},
     "output_type": "display_data"
    },
    {
     "data": {
      "application/vnd.jupyter.widget-view+json": {
       "model_id": "bbe47e892f7a4e6f992d20397d751867"
      }
     },
     "metadata": {},
     "output_type": "display_data"
    },
    {
     "data": {
      "application/vnd.jupyter.widget-view+json": {
       "model_id": "b3eb6c40a1e840c190ebd3fffdab9dc2"
      }
     },
     "metadata": {},
     "output_type": "display_data"
    },
    {
     "data": {
      "application/vnd.jupyter.widget-view+json": {
       "model_id": "9820c47c05ab465288cb9efd429ed980"
      }
     },
     "metadata": {},
     "output_type": "display_data"
    },
    {
     "data": {
      "application/vnd.jupyter.widget-view+json": {
       "model_id": "59d5c1f5e0824cfca4b8374703e5085f"
      }
     },
     "metadata": {},
     "output_type": "display_data"
    },
    {
     "data": {
      "application/vnd.jupyter.widget-view+json": {
       "model_id": "d55b4c6b4b9c4aa7939d31274289d9c1"
      }
     },
     "metadata": {},
     "output_type": "display_data"
    },
    {
     "data": {
      "application/vnd.jupyter.widget-view+json": {
       "model_id": "27a52527328a4f16a6cb7e056a958bf4"
      }
     },
     "metadata": {},
     "output_type": "display_data"
    },
    {
     "data": {
      "application/vnd.jupyter.widget-view+json": {
       "model_id": "98d66a89e4884f9eb82c0575760f3f8f"
      }
     },
     "metadata": {},
     "output_type": "display_data"
    },
    {
     "data": {
      "application/vnd.jupyter.widget-view+json": {
       "model_id": "fe440e4dbd424a70af02ef4756013bef"
      }
     },
     "metadata": {},
     "output_type": "display_data"
    },
    {
     "data": {
      "application/vnd.jupyter.widget-view+json": {
       "model_id": "e59d88a8c4f642be99e7c8c36dafa00c"
      }
     },
     "metadata": {},
     "output_type": "display_data"
    },
    {
     "data": {
      "application/vnd.jupyter.widget-view+json": {
       "model_id": "59a3aa7be24a438aa2edce5cff596389"
      }
     },
     "metadata": {},
     "output_type": "display_data"
    },
    {
     "data": {
      "application/vnd.jupyter.widget-view+json": {
       "model_id": "9dbc8e4a81af48c1b631585545eb5af7"
      }
     },
     "metadata": {},
     "output_type": "display_data"
    },
    {
     "data": {
      "application/vnd.jupyter.widget-view+json": {
       "model_id": "c28b6361936b4665b5660b05404f5a57"
      }
     },
     "metadata": {},
     "output_type": "display_data"
    },
    {
     "data": {
      "application/vnd.jupyter.widget-view+json": {
       "model_id": "5df69fc75a72431097d633d0f36a5636"
      }
     },
     "metadata": {},
     "output_type": "display_data"
    },
    {
     "data": {
      "application/vnd.jupyter.widget-view+json": {
       "model_id": "a7d25add090f44d2a4262a4627b789fe"
      }
     },
     "metadata": {},
     "output_type": "display_data"
    },
    {
     "data": {
      "application/vnd.jupyter.widget-view+json": {
       "model_id": "dd810504fb2447cdb2df091c6b662c07"
      }
     },
     "metadata": {},
     "output_type": "display_data"
    },
    {
     "data": {
      "application/vnd.jupyter.widget-view+json": {
       "model_id": "57420ca7943040278cae9bdc8d5d8fdd"
      }
     },
     "metadata": {},
     "output_type": "display_data"
    },
    {
     "data": {
      "application/vnd.jupyter.widget-view+json": {
       "model_id": "646dd9c1fc294e63a28403e5bfadf478"
      }
     },
     "metadata": {},
     "output_type": "display_data"
    },
    {
     "data": {
      "application/vnd.jupyter.widget-view+json": {
       "model_id": "869227e6c0e94d6a8c12c24d7e2b56da"
      }
     },
     "metadata": {},
     "output_type": "display_data"
    },
    {
     "data": {
      "application/vnd.jupyter.widget-view+json": {
       "model_id": "f2fe3f8204614bbe840abeaf39d40f99"
      }
     },
     "metadata": {},
     "output_type": "display_data"
    },
    {
     "data": {
      "application/vnd.jupyter.widget-view+json": {
       "model_id": "40c5b36442a0402792394160758e3bed"
      }
     },
     "metadata": {},
     "output_type": "display_data"
    },
    {
     "data": {
      "application/vnd.jupyter.widget-view+json": {
       "model_id": "b2ff3a7887304f3a9e46e7dfc5b6e385"
      }
     },
     "metadata": {},
     "output_type": "display_data"
    },
    {
     "data": {
      "application/vnd.jupyter.widget-view+json": {
       "model_id": "65e0b47735c6461aa695b175263cad88"
      }
     },
     "metadata": {},
     "output_type": "display_data"
    },
    {
     "data": {
      "application/vnd.jupyter.widget-view+json": {
       "model_id": "098ec4b0b7444cd0bb13a87d5e56a9be"
      }
     },
     "metadata": {},
     "output_type": "display_data"
    },
    {
     "data": {
      "application/vnd.jupyter.widget-view+json": {
       "model_id": "20d04e1e5eec4ca7816fb287995339cc"
      }
     },
     "metadata": {},
     "output_type": "display_data"
    },
    {
     "data": {
      "application/vnd.jupyter.widget-view+json": {
       "model_id": "0c9ea2a0571a4526927da12ea2ecd9b6"
      }
     },
     "metadata": {},
     "output_type": "display_data"
    },
    {
     "data": {
      "application/vnd.jupyter.widget-view+json": {
       "model_id": "6d018e43c98346ca97032c44cf7113a2"
      }
     },
     "metadata": {},
     "output_type": "display_data"
    },
    {
     "data": {
      "application/vnd.jupyter.widget-view+json": {
       "model_id": "370d28c33a094e2e82849f9cc6102317"
      }
     },
     "metadata": {},
     "output_type": "display_data"
    },
    {
     "data": {
      "application/vnd.jupyter.widget-view+json": {
       "model_id": "4762d52171f94163a6a8e90c2a33c038"
      }
     },
     "metadata": {},
     "output_type": "display_data"
    },
    {
     "data": {
      "application/vnd.jupyter.widget-view+json": {
       "model_id": "3d65fab3a831491ca6f34c2d859ecf62"
      }
     },
     "metadata": {},
     "output_type": "display_data"
    },
    {
     "data": {
      "application/vnd.jupyter.widget-view+json": {
       "model_id": "412c7b48fa504cef84db76a85b295edb"
      }
     },
     "metadata": {},
     "output_type": "display_data"
    },
    {
     "data": {
      "application/vnd.jupyter.widget-view+json": {
       "model_id": "e737a1cde433491b9b76668434fd2f30"
      }
     },
     "metadata": {},
     "output_type": "display_data"
    },
    {
     "data": {
      "application/vnd.jupyter.widget-view+json": {
       "model_id": "1fcfe88bb94b4f7292dc0c75cf03364b"
      }
     },
     "metadata": {},
     "output_type": "display_data"
    },
    {
     "data": {
      "application/vnd.jupyter.widget-view+json": {
       "model_id": "549a52d5999e4f81b5428d5d2d7427a0"
      }
     },
     "metadata": {},
     "output_type": "display_data"
    },
    {
     "data": {
      "application/vnd.jupyter.widget-view+json": {
       "model_id": "8ed2caae88f7416e8f749e49ea05d472"
      }
     },
     "metadata": {},
     "output_type": "display_data"
    },
    {
     "data": {
      "application/vnd.jupyter.widget-view+json": {
       "model_id": "c42d06cc704d494a9eda3512920d356c"
      }
     },
     "metadata": {},
     "output_type": "display_data"
    },
    {
     "data": {
      "application/vnd.jupyter.widget-view+json": {
       "model_id": "4f4295fbafc941589cfcebdc008584c5"
      }
     },
     "metadata": {},
     "output_type": "display_data"
    },
    {
     "data": {
      "application/vnd.jupyter.widget-view+json": {
       "model_id": "861a4478201a4699bf2fbf42f76477ef"
      }
     },
     "metadata": {},
     "output_type": "display_data"
    },
    {
     "data": {
      "application/vnd.jupyter.widget-view+json": {
       "model_id": "8090ea399f0d410dbb6078900f76ce98"
      }
     },
     "metadata": {},
     "output_type": "display_data"
    },
    {
     "data": {
      "application/vnd.jupyter.widget-view+json": {
       "model_id": "2a600ff7037a408695b212ecab24b00c"
      }
     },
     "metadata": {},
     "output_type": "display_data"
    },
    {
     "data": {
      "application/vnd.jupyter.widget-view+json": {
       "model_id": "6f1388d22d494353a81a7ba18e26541f"
      }
     },
     "metadata": {},
     "output_type": "display_data"
    },
    {
     "data": {
      "application/vnd.jupyter.widget-view+json": {
       "model_id": "bcca77f2a7944745bf42c862e3bcfd4b"
      }
     },
     "metadata": {},
     "output_type": "display_data"
    },
    {
     "data": {
      "application/vnd.jupyter.widget-view+json": {
       "model_id": "ed8e550af54140739e579f974acec4b1"
      }
     },
     "metadata": {},
     "output_type": "display_data"
    },
    {
     "data": {
      "application/vnd.jupyter.widget-view+json": {
       "model_id": "1594a573e19c4b2d8d3b73e19414ee47"
      }
     },
     "metadata": {},
     "output_type": "display_data"
    },
    {
     "data": {
      "application/vnd.jupyter.widget-view+json": {
       "model_id": "2f30466011a34c8583b79e4629fc8b4c"
      }
     },
     "metadata": {},
     "output_type": "display_data"
    },
    {
     "data": {
      "application/vnd.jupyter.widget-view+json": {
       "model_id": "8fff57ac7d9f49f4bcdb2084d691e9bc"
      }
     },
     "metadata": {},
     "output_type": "display_data"
    },
    {
     "data": {
      "application/vnd.jupyter.widget-view+json": {
       "model_id": "d535ace6e90341179f0a526a4d8ae4cc"
      }
     },
     "metadata": {},
     "output_type": "display_data"
    },
    {
     "data": {
      "application/vnd.jupyter.widget-view+json": {
       "model_id": "a8e754ff71714cd0a70b75a15ceb9185"
      }
     },
     "metadata": {},
     "output_type": "display_data"
    },
    {
     "data": {
      "application/vnd.jupyter.widget-view+json": {
       "model_id": "83bd76f889f74538bb7c8b5fe4132b14"
      }
     },
     "metadata": {},
     "output_type": "display_data"
    },
    {
     "data": {
      "application/vnd.jupyter.widget-view+json": {
       "model_id": "167ddff40f57411bac2101df3243ba21"
      }
     },
     "metadata": {},
     "output_type": "display_data"
    },
    {
     "data": {
      "application/vnd.jupyter.widget-view+json": {
       "model_id": "0ca2b8c65d9143f3b10ff25d4d2f341a"
      }
     },
     "metadata": {},
     "output_type": "display_data"
    },
    {
     "data": {
      "application/vnd.jupyter.widget-view+json": {
       "model_id": "ee25ac3a2fdf4bd7b8a47516deb74548"
      }
     },
     "metadata": {},
     "output_type": "display_data"
    },
    {
     "data": {
      "application/vnd.jupyter.widget-view+json": {
       "model_id": "32e2fd2dc24c40fe89be70492b92c01c"
      }
     },
     "metadata": {},
     "output_type": "display_data"
    },
    {
     "data": {
      "application/vnd.jupyter.widget-view+json": {
       "model_id": "4ebf6f66765742e6862a6aee4d0569da"
      }
     },
     "metadata": {},
     "output_type": "display_data"
    },
    {
     "data": {
      "application/vnd.jupyter.widget-view+json": {
       "model_id": "ee590e0e90024bbca2bf986252676040"
      }
     },
     "metadata": {},
     "output_type": "display_data"
    },
    {
     "data": {
      "application/vnd.jupyter.widget-view+json": {
       "model_id": "004db06f9aed4233a807050b1a36c317"
      }
     },
     "metadata": {},
     "output_type": "display_data"
    },
    {
     "data": {
      "application/vnd.jupyter.widget-view+json": {
       "model_id": "44409518d3c04df0a1c30342f4807c42"
      }
     },
     "metadata": {},
     "output_type": "display_data"
    },
    {
     "data": {
      "application/vnd.jupyter.widget-view+json": {
       "model_id": "93ffe2b78a0f4635a452f85f01ed20be"
      }
     },
     "metadata": {},
     "output_type": "display_data"
    },
    {
     "data": {
      "application/vnd.jupyter.widget-view+json": {
       "model_id": "80ebe16d154d4c92ac6d8c836198011d"
      }
     },
     "metadata": {},
     "output_type": "display_data"
    },
    {
     "data": {
      "application/vnd.jupyter.widget-view+json": {
       "model_id": "5421a92d083c49be87e2c14e52bde455"
      }
     },
     "metadata": {},
     "output_type": "display_data"
    },
    {
     "data": {
      "application/vnd.jupyter.widget-view+json": {
       "model_id": "cf86d66458f441389a8a95fb3c9f7e75"
      }
     },
     "metadata": {},
     "output_type": "display_data"
    },
    {
     "data": {
      "application/vnd.jupyter.widget-view+json": {
       "model_id": "546a2316823a4206bcfd12bb2e70fa50"
      }
     },
     "metadata": {},
     "output_type": "display_data"
    },
    {
     "data": {
      "application/vnd.jupyter.widget-view+json": {
       "model_id": "5ba5eca41e6347e3a3510e8879e9e7cd"
      }
     },
     "metadata": {},
     "output_type": "display_data"
    },
    {
     "data": {
      "application/vnd.jupyter.widget-view+json": {
       "model_id": "1a80e2576b394fb8955ebc400e01f988"
      }
     },
     "metadata": {},
     "output_type": "display_data"
    },
    {
     "data": {
      "application/vnd.jupyter.widget-view+json": {
       "model_id": "32038724559c46e69607deb78c8b98b6"
      }
     },
     "metadata": {},
     "output_type": "display_data"
    },
    {
     "data": {
      "application/vnd.jupyter.widget-view+json": {
       "model_id": "0f7eeb510736469d906b8efcae8f8e30"
      }
     },
     "metadata": {},
     "output_type": "display_data"
    },
    {
     "data": {
      "application/vnd.jupyter.widget-view+json": {
       "model_id": "c3b4b818e93841a18021d483340f4753"
      }
     },
     "metadata": {},
     "output_type": "display_data"
    },
    {
     "data": {
      "application/vnd.jupyter.widget-view+json": {
       "model_id": "ca279c78022a4017b8fa3bdc97b0f4f8"
      }
     },
     "metadata": {},
     "output_type": "display_data"
    },
    {
     "data": {
      "application/vnd.jupyter.widget-view+json": {
       "model_id": "16c64080ba0d450aba4371d7ab827e40"
      }
     },
     "metadata": {},
     "output_type": "display_data"
    },
    {
     "data": {
      "application/vnd.jupyter.widget-view+json": {
       "model_id": "b749212cafaa4dfebef049cba4502db0"
      }
     },
     "metadata": {},
     "output_type": "display_data"
    },
    {
     "data": {
      "application/vnd.jupyter.widget-view+json": {
       "model_id": "dca4eec51a7445debb8b03b026378597"
      }
     },
     "metadata": {},
     "output_type": "display_data"
    },
    {
     "data": {
      "application/vnd.jupyter.widget-view+json": {
       "model_id": "be460b1ecd234ecebf3c6475fcb60480"
      }
     },
     "metadata": {},
     "output_type": "display_data"
    },
    {
     "data": {
      "application/vnd.jupyter.widget-view+json": {
       "model_id": "688c2f51aa7849fb9b5f9523346d1a7b"
      }
     },
     "metadata": {},
     "output_type": "display_data"
    },
    {
     "data": {
      "application/vnd.jupyter.widget-view+json": {
       "model_id": "ee76d108a8c3434c92fe63eaa71a43a1"
      }
     },
     "metadata": {},
     "output_type": "display_data"
    },
    {
     "data": {
      "application/vnd.jupyter.widget-view+json": {
       "model_id": "db3946c802cc4f41bb6b40f9ae8a8768"
      }
     },
     "metadata": {},
     "output_type": "display_data"
    },
    {
     "data": {
      "application/vnd.jupyter.widget-view+json": {
       "model_id": "4d2d4b8700644ad597438be77b90bcf7"
      }
     },
     "metadata": {},
     "output_type": "display_data"
    },
    {
     "data": {
      "application/vnd.jupyter.widget-view+json": {
       "model_id": "538e3809beaf4b519075da9923ca9e45"
      }
     },
     "metadata": {},
     "output_type": "display_data"
    },
    {
     "data": {
      "application/vnd.jupyter.widget-view+json": {
       "model_id": "edd53da9eed5474399d9da2b0a9742da"
      }
     },
     "metadata": {},
     "output_type": "display_data"
    },
    {
     "data": {
      "application/vnd.jupyter.widget-view+json": {
       "model_id": "29733cf1b7aa4d5ab2cd1176e057a0a0"
      }
     },
     "metadata": {},
     "output_type": "display_data"
    },
    {
     "data": {
      "application/vnd.jupyter.widget-view+json": {
       "model_id": "c3384e9169da494d924d70d19de01e75"
      }
     },
     "metadata": {},
     "output_type": "display_data"
    },
    {
     "data": {
      "application/vnd.jupyter.widget-view+json": {
       "model_id": "74ddeb6bf68c4d65aa97f8f3cec6c12b"
      }
     },
     "metadata": {},
     "output_type": "display_data"
    },
    {
     "data": {
      "application/vnd.jupyter.widget-view+json": {
       "model_id": "2b1214ad564a485f971b9133d86fbc3b"
      }
     },
     "metadata": {},
     "output_type": "display_data"
    },
    {
     "data": {
      "application/vnd.jupyter.widget-view+json": {
       "model_id": "bb73452964b545079d2d2e0e2921a33a"
      }
     },
     "metadata": {},
     "output_type": "display_data"
    },
    {
     "data": {
      "application/vnd.jupyter.widget-view+json": {
       "model_id": "165097ba4e134352b2129eea2ed5f1fa"
      }
     },
     "metadata": {},
     "output_type": "display_data"
    },
    {
     "data": {
      "application/vnd.jupyter.widget-view+json": {
       "model_id": "d3967919ed404fa5b5353d51730b2b3a"
      }
     },
     "metadata": {},
     "output_type": "display_data"
    },
    {
     "data": {
      "application/vnd.jupyter.widget-view+json": {
       "model_id": "16908b1f2ee449419a1fd24728eb54ce"
      }
     },
     "metadata": {},
     "output_type": "display_data"
    },
    {
     "data": {
      "application/vnd.jupyter.widget-view+json": {
       "model_id": "79b1981083a540da98f1bf9f008a4e94"
      }
     },
     "metadata": {},
     "output_type": "display_data"
    },
    {
     "data": {
      "application/vnd.jupyter.widget-view+json": {
       "model_id": "48a02a14234f48bd8b8dcf8d89d4d2b4"
      }
     },
     "metadata": {},
     "output_type": "display_data"
    },
    {
     "data": {
      "application/vnd.jupyter.widget-view+json": {
       "model_id": "6c662399a5c346b082f153850ea3b9a8"
      }
     },
     "metadata": {},
     "output_type": "display_data"
    },
    {
     "data": {
      "application/vnd.jupyter.widget-view+json": {
       "model_id": "76c064ebc1314698a4c4890a6881a00a"
      }
     },
     "metadata": {},
     "output_type": "display_data"
    },
    {
     "data": {
      "application/vnd.jupyter.widget-view+json": {
       "model_id": "b7e68168d6bb437fb553eeca36063d71"
      }
     },
     "metadata": {},
     "output_type": "display_data"
    },
    {
     "data": {
      "application/vnd.jupyter.widget-view+json": {
       "model_id": "772cd558c79643c09495eed389e28678"
      }
     },
     "metadata": {},
     "output_type": "display_data"
    },
    {
     "data": {
      "application/vnd.jupyter.widget-view+json": {
       "model_id": "bb4e90fd4e5d4274aa7ebc87c46ad9f6"
      }
     },
     "metadata": {},
     "output_type": "display_data"
    },
    {
     "data": {
      "application/vnd.jupyter.widget-view+json": {
       "model_id": "8277e4eef8744d48ba71f7b492fa79d8"
      }
     },
     "metadata": {},
     "output_type": "display_data"
    },
    {
     "data": {
      "application/vnd.jupyter.widget-view+json": {
       "model_id": "521cb91b94c349d881e82e15045f227f"
      }
     },
     "metadata": {},
     "output_type": "display_data"
    },
    {
     "data": {
      "application/vnd.jupyter.widget-view+json": {
       "model_id": "4880a483d1444f76b4ef768a7c41cc32"
      }
     },
     "metadata": {},
     "output_type": "display_data"
    },
    {
     "data": {
      "application/vnd.jupyter.widget-view+json": {
       "model_id": "99bfabd7480d4ef7829c3500d1fbab56"
      }
     },
     "metadata": {},
     "output_type": "display_data"
    },
    {
     "data": {
      "application/vnd.jupyter.widget-view+json": {
       "model_id": "6c3bd90c2ec04bdbb5372657a6b39768"
      }
     },
     "metadata": {},
     "output_type": "display_data"
    },
    {
     "data": {
      "application/vnd.jupyter.widget-view+json": {
       "model_id": "eca70b6410034096b9d0080abdb31554"
      }
     },
     "metadata": {},
     "output_type": "display_data"
    },
    {
     "data": {
      "application/vnd.jupyter.widget-view+json": {
       "model_id": "1eba0f4fa3dd4d9e9489dff8efc9592b"
      }
     },
     "metadata": {},
     "output_type": "display_data"
    },
    {
     "data": {
      "application/vnd.jupyter.widget-view+json": {
       "model_id": "a0fe51c3ba75448d95b62c9c7eec9606"
      }
     },
     "metadata": {},
     "output_type": "display_data"
    },
    {
     "data": {
      "application/vnd.jupyter.widget-view+json": {
       "model_id": "30264794865c4729844c26a9a7ba69df"
      }
     },
     "metadata": {},
     "output_type": "display_data"
    },
    {
     "data": {
      "application/vnd.jupyter.widget-view+json": {
       "model_id": "78cdb4b7a5d44eef9108a35e62fb9ee8"
      }
     },
     "metadata": {},
     "output_type": "display_data"
    },
    {
     "data": {
      "application/vnd.jupyter.widget-view+json": {
       "model_id": "6243f64a74d34649a40c29b6c0f7392a"
      }
     },
     "metadata": {},
     "output_type": "display_data"
    },
    {
     "data": {
      "application/vnd.jupyter.widget-view+json": {
       "model_id": "5ddb97f4f96242dfb7084a1c00f1719c"
      }
     },
     "metadata": {},
     "output_type": "display_data"
    },
    {
     "data": {
      "application/vnd.jupyter.widget-view+json": {
       "model_id": "0d147f7952ce4108b04c4f59aa4d0814"
      }
     },
     "metadata": {},
     "output_type": "display_data"
    },
    {
     "data": {
      "application/vnd.jupyter.widget-view+json": {
       "model_id": "38755e8c669a4a49bde14f749c0e098a"
      }
     },
     "metadata": {},
     "output_type": "display_data"
    },
    {
     "data": {
      "application/vnd.jupyter.widget-view+json": {
       "model_id": "5cb66bfa6bc64fa9a1a23b78955c40d2"
      }
     },
     "metadata": {},
     "output_type": "display_data"
    },
    {
     "data": {
      "application/vnd.jupyter.widget-view+json": {
       "model_id": "d2f4e4297bc84b02b1fd538e761340e5"
      }
     },
     "metadata": {},
     "output_type": "display_data"
    },
    {
     "data": {
      "application/vnd.jupyter.widget-view+json": {
       "model_id": "05aa87e9cf3c45c684adc38c945ec8af"
      }
     },
     "metadata": {},
     "output_type": "display_data"
    },
    {
     "data": {
      "application/vnd.jupyter.widget-view+json": {
       "model_id": "fa868806baac408da7225436355c5571"
      }
     },
     "metadata": {},
     "output_type": "display_data"
    },
    {
     "data": {
      "application/vnd.jupyter.widget-view+json": {
       "model_id": "909fe3ae2cc54cad81e4a84389e4fb45"
      }
     },
     "metadata": {},
     "output_type": "display_data"
    },
    {
     "data": {
      "application/vnd.jupyter.widget-view+json": {
       "model_id": "108239260db04091b65d182723e29389"
      }
     },
     "metadata": {},
     "output_type": "display_data"
    },
    {
     "data": {
      "application/vnd.jupyter.widget-view+json": {
       "model_id": "ddfec56bca754585818050ae95a97f6e"
      }
     },
     "metadata": {},
     "output_type": "display_data"
    },
    {
     "data": {
      "application/vnd.jupyter.widget-view+json": {
       "model_id": "6c4c186f3b0a4ef49a2c4b6391d24da4"
      }
     },
     "metadata": {},
     "output_type": "display_data"
    },
    {
     "data": {
      "application/vnd.jupyter.widget-view+json": {
       "model_id": "a33be284676c4a3b9f654f36282a3e5c"
      }
     },
     "metadata": {},
     "output_type": "display_data"
    },
    {
     "data": {
      "application/vnd.jupyter.widget-view+json": {
       "model_id": "572555f4b91540febab45cd221409b66"
      }
     },
     "metadata": {},
     "output_type": "display_data"
    },
    {
     "data": {
      "application/vnd.jupyter.widget-view+json": {
       "model_id": "4efb65501b7b43abad0666bd7f958ab5"
      }
     },
     "metadata": {},
     "output_type": "display_data"
    },
    {
     "data": {
      "application/vnd.jupyter.widget-view+json": {
       "model_id": "72226f73bcff40879acae31785164daf"
      }
     },
     "metadata": {},
     "output_type": "display_data"
    },
    {
     "data": {
      "application/vnd.jupyter.widget-view+json": {
       "model_id": "0080d08f1c0c44de81a2c20a2568d0f4"
      }
     },
     "metadata": {},
     "output_type": "display_data"
    },
    {
     "data": {
      "application/vnd.jupyter.widget-view+json": {
       "model_id": "199f4964e3e54c71b45056e4c62eccd2"
      }
     },
     "metadata": {},
     "output_type": "display_data"
    },
    {
     "data": {
      "application/vnd.jupyter.widget-view+json": {
       "model_id": "6fc26570e64741b990b96c66719109a1"
      }
     },
     "metadata": {},
     "output_type": "display_data"
    },
    {
     "data": {
      "application/vnd.jupyter.widget-view+json": {
       "model_id": "9b45aa2e011c450f8c762137c03cd2ec"
      }
     },
     "metadata": {},
     "output_type": "display_data"
    },
    {
     "data": {
      "application/vnd.jupyter.widget-view+json": {
       "model_id": "495de8362a4b47cf9cc2be011fb67599"
      }
     },
     "metadata": {},
     "output_type": "display_data"
    },
    {
     "data": {
      "application/vnd.jupyter.widget-view+json": {
       "model_id": "0be940f1286744b4b154a9c16adaf2c6"
      }
     },
     "metadata": {},
     "output_type": "display_data"
    },
    {
     "data": {
      "application/vnd.jupyter.widget-view+json": {
       "model_id": "099629a0938243eea8486a2ba9125160"
      }
     },
     "metadata": {},
     "output_type": "display_data"
    },
    {
     "data": {
      "application/vnd.jupyter.widget-view+json": {
       "model_id": "8bb49ac6fb404d9996e2b2a941ded07b"
      }
     },
     "metadata": {},
     "output_type": "display_data"
    },
    {
     "data": {
      "application/vnd.jupyter.widget-view+json": {
       "model_id": "f289745c667c438eb03cc419a27e69dd"
      }
     },
     "metadata": {},
     "output_type": "display_data"
    },
    {
     "data": {
      "application/vnd.jupyter.widget-view+json": {
       "model_id": "521149091d7e4b0c83038bb14ac62e4e"
      }
     },
     "metadata": {},
     "output_type": "display_data"
    },
    {
     "data": {
      "application/vnd.jupyter.widget-view+json": {
       "model_id": "4d685bcc45904885b002868c6df5f86c"
      }
     },
     "metadata": {},
     "output_type": "display_data"
    },
    {
     "data": {
      "application/vnd.jupyter.widget-view+json": {
       "model_id": "e21b0fe7fd8b4b0fb0fff95776b1824d"
      }
     },
     "metadata": {},
     "output_type": "display_data"
    },
    {
     "data": {
      "application/vnd.jupyter.widget-view+json": {
       "model_id": "b438425302f446cba2a90f73344166b1"
      }
     },
     "metadata": {},
     "output_type": "display_data"
    },
    {
     "data": {
      "application/vnd.jupyter.widget-view+json": {
       "model_id": "c5e071445b144d3ea51f92e752ea517d"
      }
     },
     "metadata": {},
     "output_type": "display_data"
    },
    {
     "data": {
      "application/vnd.jupyter.widget-view+json": {
       "model_id": "69ba05a407d141af91c55de97315ae0b"
      }
     },
     "metadata": {},
     "output_type": "display_data"
    },
    {
     "data": {
      "application/vnd.jupyter.widget-view+json": {
       "model_id": "6d4d3f5f2ea3453b9c4c62e9efc6c9b6"
      }
     },
     "metadata": {},
     "output_type": "display_data"
    },
    {
     "data": {
      "application/vnd.jupyter.widget-view+json": {
       "model_id": "5439ab2247734371b41da7e491b41165"
      }
     },
     "metadata": {},
     "output_type": "display_data"
    },
    {
     "data": {
      "application/vnd.jupyter.widget-view+json": {
       "model_id": "b6c3f25b1b774c7488fab324f1b93b9c"
      }
     },
     "metadata": {},
     "output_type": "display_data"
    },
    {
     "data": {
      "application/vnd.jupyter.widget-view+json": {
       "model_id": "6c79d4198a9545f581ac6236905f721b"
      }
     },
     "metadata": {},
     "output_type": "display_data"
    },
    {
     "data": {
      "application/vnd.jupyter.widget-view+json": {
       "model_id": "c67094dec0e34389800c920b43d1fcf6"
      }
     },
     "metadata": {},
     "output_type": "display_data"
    },
    {
     "data": {
      "application/vnd.jupyter.widget-view+json": {
       "model_id": "0112779974494ab5b630e4ed8ee48990"
      }
     },
     "metadata": {},
     "output_type": "display_data"
    },
    {
     "data": {
      "application/vnd.jupyter.widget-view+json": {
       "model_id": "f6a0015105c8418697e0222b49164bde"
      }
     },
     "metadata": {},
     "output_type": "display_data"
    },
    {
     "data": {
      "application/vnd.jupyter.widget-view+json": {
       "model_id": "354431e1965b427da76ae86154fae7f5"
      }
     },
     "metadata": {},
     "output_type": "display_data"
    },
    {
     "data": {
      "application/vnd.jupyter.widget-view+json": {
       "model_id": "92d53760a52a4a6199646b3654cbcd6d"
      }
     },
     "metadata": {},
     "output_type": "display_data"
    },
    {
     "data": {
      "application/vnd.jupyter.widget-view+json": {
       "model_id": "7452f256f4584cffb3ebddf0d4fa172b"
      }
     },
     "metadata": {},
     "output_type": "display_data"
    },
    {
     "data": {
      "application/vnd.jupyter.widget-view+json": {
       "model_id": "1294cdb8c1a447f69a77c1f70dae2a6c"
      }
     },
     "metadata": {},
     "output_type": "display_data"
    },
    {
     "data": {
      "application/vnd.jupyter.widget-view+json": {
       "model_id": "6176d28e19e44fcca283fb63f7d81aa1"
      }
     },
     "metadata": {},
     "output_type": "display_data"
    },
    {
     "data": {
      "application/vnd.jupyter.widget-view+json": {
       "model_id": "09e72da2b21c46ad80b2ebe5fd2d648f"
      }
     },
     "metadata": {},
     "output_type": "display_data"
    },
    {
     "data": {
      "application/vnd.jupyter.widget-view+json": {
       "model_id": "bcfb673d9bfe4f2ca42608c3741a77cc"
      }
     },
     "metadata": {},
     "output_type": "display_data"
    },
    {
     "data": {
      "application/vnd.jupyter.widget-view+json": {
       "model_id": "d3d8840e669f4ffa9110968bd9816829"
      }
     },
     "metadata": {},
     "output_type": "display_data"
    },
    {
     "data": {
      "application/vnd.jupyter.widget-view+json": {
       "model_id": "e82eeca167f04534806167f29ac8345d"
      }
     },
     "metadata": {},
     "output_type": "display_data"
    },
    {
     "data": {
      "application/vnd.jupyter.widget-view+json": {
       "model_id": "3ad68386d73d4a8a88793f5c763dff5b"
      }
     },
     "metadata": {},
     "output_type": "display_data"
    },
    {
     "data": {
      "application/vnd.jupyter.widget-view+json": {
       "model_id": "1cef21a7e20a430797794812d083c3a2"
      }
     },
     "metadata": {},
     "output_type": "display_data"
    },
    {
     "data": {
      "application/vnd.jupyter.widget-view+json": {
       "model_id": "ec20ec02e7f247c690df63a0b214830c"
      }
     },
     "metadata": {},
     "output_type": "display_data"
    },
    {
     "data": {
      "application/vnd.jupyter.widget-view+json": {
       "model_id": "48b01b8931be4375beb4b59578d06542"
      }
     },
     "metadata": {},
     "output_type": "display_data"
    },
    {
     "data": {
      "application/vnd.jupyter.widget-view+json": {
       "model_id": "5506fe69207e4471aa8cf2cc1e8f79f8"
      }
     },
     "metadata": {},
     "output_type": "display_data"
    },
    {
     "data": {
      "application/vnd.jupyter.widget-view+json": {
       "model_id": "91fca574ff6f46439833dcec137d015b"
      }
     },
     "metadata": {},
     "output_type": "display_data"
    },
    {
     "data": {
      "application/vnd.jupyter.widget-view+json": {
       "model_id": "fd48ec1fafc340efa6e9c0a701902775"
      }
     },
     "metadata": {},
     "output_type": "display_data"
    },
    {
     "data": {
      "application/vnd.jupyter.widget-view+json": {
       "model_id": "77d98cfdd5d04fd299e35d7ef2e49294"
      }
     },
     "metadata": {},
     "output_type": "display_data"
    },
    {
     "data": {
      "application/vnd.jupyter.widget-view+json": {
       "model_id": "c6ae643174d34784a7a817ee2597b060"
      }
     },
     "metadata": {},
     "output_type": "display_data"
    },
    {
     "data": {
      "application/vnd.jupyter.widget-view+json": {
       "model_id": "0c84a1fa29734791b27792d6543b91f3"
      }
     },
     "metadata": {},
     "output_type": "display_data"
    },
    {
     "data": {
      "application/vnd.jupyter.widget-view+json": {
       "model_id": "a1e6ffe4b8ba42aeb50f876e19a93e75"
      }
     },
     "metadata": {},
     "output_type": "display_data"
    },
    {
     "data": {
      "application/vnd.jupyter.widget-view+json": {
       "model_id": "c19efba1bf2d4fe98321e093604c642d"
      }
     },
     "metadata": {},
     "output_type": "display_data"
    },
    {
     "data": {
      "application/vnd.jupyter.widget-view+json": {
       "model_id": "84162a15426843109c0098424106326d"
      }
     },
     "metadata": {},
     "output_type": "display_data"
    },
    {
     "data": {
      "application/vnd.jupyter.widget-view+json": {
       "model_id": "98025b3e6fc1487cbb8734d1d2679fd5"
      }
     },
     "metadata": {},
     "output_type": "display_data"
    },
    {
     "data": {
      "application/vnd.jupyter.widget-view+json": {
       "model_id": "cd7f0717e31842f099436a8e078d1d6a"
      }
     },
     "metadata": {},
     "output_type": "display_data"
    },
    {
     "data": {
      "application/vnd.jupyter.widget-view+json": {
       "model_id": "9bd2c29bdc854de7942ae86c148e7fa9"
      }
     },
     "metadata": {},
     "output_type": "display_data"
    },
    {
     "data": {
      "application/vnd.jupyter.widget-view+json": {
       "model_id": "1db438dbbe8e472b88ba93021d4493a1"
      }
     },
     "metadata": {},
     "output_type": "display_data"
    },
    {
     "data": {
      "application/vnd.jupyter.widget-view+json": {
       "model_id": "2e16b30c00a54057b1e5b6ca16b34257"
      }
     },
     "metadata": {},
     "output_type": "display_data"
    },
    {
     "data": {
      "application/vnd.jupyter.widget-view+json": {
       "model_id": "4b9bfce082cb4bc4bb01e5feec57f270"
      }
     },
     "metadata": {},
     "output_type": "display_data"
    },
    {
     "data": {
      "application/vnd.jupyter.widget-view+json": {
       "model_id": "b98dfffdcee4475cb78312bfabe4f0fb"
      }
     },
     "metadata": {},
     "output_type": "display_data"
    },
    {
     "data": {
      "application/vnd.jupyter.widget-view+json": {
       "model_id": "b198390dd3f740f3823a3d0e6f550c3d"
      }
     },
     "metadata": {},
     "output_type": "display_data"
    },
    {
     "data": {
      "application/vnd.jupyter.widget-view+json": {
       "model_id": "e25589f4051d48619f1b61a97dfef8bc"
      }
     },
     "metadata": {},
     "output_type": "display_data"
    },
    {
     "data": {
      "application/vnd.jupyter.widget-view+json": {
       "model_id": "3928883a38df4fd48124ae5164aec876"
      }
     },
     "metadata": {},
     "output_type": "display_data"
    },
    {
     "data": {
      "application/vnd.jupyter.widget-view+json": {
       "model_id": "6258392b8f1c4e679acb9e6124f67b4b"
      }
     },
     "metadata": {},
     "output_type": "display_data"
    },
    {
     "data": {
      "application/vnd.jupyter.widget-view+json": {
       "model_id": "ada12aa4296d49fab44a6757865c5745"
      }
     },
     "metadata": {},
     "output_type": "display_data"
    },
    {
     "data": {
      "application/vnd.jupyter.widget-view+json": {
       "model_id": "cbe5505e9a7447c08727a27c93ae7cbd"
      }
     },
     "metadata": {},
     "output_type": "display_data"
    },
    {
     "data": {
      "application/vnd.jupyter.widget-view+json": {
       "model_id": "111351b013ac41e9822c03c6a41133f5"
      }
     },
     "metadata": {},
     "output_type": "display_data"
    },
    {
     "data": {
      "application/vnd.jupyter.widget-view+json": {
       "model_id": "76c4eb6aa9de4d5c8fbcd20e51ece935"
      }
     },
     "metadata": {},
     "output_type": "display_data"
    },
    {
     "data": {
      "application/vnd.jupyter.widget-view+json": {
       "model_id": "54b844815670488a97fd5c03540ebbf7"
      }
     },
     "metadata": {},
     "output_type": "display_data"
    },
    {
     "data": {
      "application/vnd.jupyter.widget-view+json": {
       "model_id": "aa780bf9dd78469bbe0a8d7ed5ee5fcd"
      }
     },
     "metadata": {},
     "output_type": "display_data"
    },
    {
     "data": {
      "application/vnd.jupyter.widget-view+json": {
       "model_id": "899eef0d7e7d41428fbdc515594244d5"
      }
     },
     "metadata": {},
     "output_type": "display_data"
    },
    {
     "data": {
      "application/vnd.jupyter.widget-view+json": {
       "model_id": "0e022e2619ce49e6832cb997a1893d63"
      }
     },
     "metadata": {},
     "output_type": "display_data"
    },
    {
     "data": {
      "application/vnd.jupyter.widget-view+json": {
       "model_id": "61ad3a302eb140748410710a92d32a54"
      }
     },
     "metadata": {},
     "output_type": "display_data"
    },
    {
     "data": {
      "application/vnd.jupyter.widget-view+json": {
       "model_id": "e42dafd46f014d16acb21dbdb6b94de8"
      }
     },
     "metadata": {},
     "output_type": "display_data"
    },
    {
     "name": "stdout",
     "output_type": "stream",
     "text": [
      "\n"
     ]
    }
   ],
   "source": [
    "win_record2, descriptions2 = main(20,513)"
   ]
  },
  {
   "cell_type": "code",
   "execution_count": 7,
   "metadata": {
    "collapsed": false,
    "deletable": true,
    "editable": true
   },
   "outputs": [],
   "source": [
    "\n",
    "win_record2['total wins'] = win_record2.sum(axis=1)\n",
    "win_record2['Fraction Won'] = win_record2['total wins']/(2*7*10)\n",
    "win_record2 = win_record2.sort_values('Fraction Won', ascending = False)\n",
    "win_record2['relative strength'] = win_record2['Fraction Won']/win_record2.loc['AB_Improved']['Fraction Won']"
   ]
  },
  {
   "cell_type": "code",
   "execution_count": 9,
   "metadata": {
    "collapsed": false,
    "deletable": true,
    "editable": true
   },
   "outputs": [
    {
     "data": {
      "text/html": [
       "<div>\n",
       "<table border=\"1\" class=\"dataframe\">\n",
       "  <thead>\n",
       "    <tr style=\"text-align: right;\">\n",
       "      <th></th>\n",
       "      <th>AB_Center</th>\n",
       "      <th>AB_Improved</th>\n",
       "      <th>AB_Open</th>\n",
       "      <th>MM_Center</th>\n",
       "      <th>MM_Improved</th>\n",
       "      <th>MM_Open</th>\n",
       "      <th>Random</th>\n",
       "      <th>total wins</th>\n",
       "      <th>Fraction Won</th>\n",
       "      <th>relative strength</th>\n",
       "    </tr>\n",
       "  </thead>\n",
       "  <tbody>\n",
       "    <tr>\n",
       "      <th>AB_WeightedCenter (w:8.249055,lamba:0.163261)</th>\n",
       "      <td>12</td>\n",
       "      <td>16</td>\n",
       "      <td>12</td>\n",
       "      <td>19</td>\n",
       "      <td>16</td>\n",
       "      <td>18</td>\n",
       "      <td>19</td>\n",
       "      <td>112</td>\n",
       "      <td>0.800000</td>\n",
       "      <td>1.217391</td>\n",
       "    </tr>\n",
       "    <tr>\n",
       "      <th>AB_WeightedImproved (w:0.989725)</th>\n",
       "      <td>12</td>\n",
       "      <td>13</td>\n",
       "      <td>12</td>\n",
       "      <td>19</td>\n",
       "      <td>15</td>\n",
       "      <td>17</td>\n",
       "      <td>20</td>\n",
       "      <td>108</td>\n",
       "      <td>0.771429</td>\n",
       "      <td>1.173913</td>\n",
       "    </tr>\n",
       "    <tr>\n",
       "      <th>AB_WeightedCenter (w:0.728707,lamba:0.078828)</th>\n",
       "      <td>12</td>\n",
       "      <td>13</td>\n",
       "      <td>8</td>\n",
       "      <td>17</td>\n",
       "      <td>15</td>\n",
       "      <td>19</td>\n",
       "      <td>19</td>\n",
       "      <td>103</td>\n",
       "      <td>0.735714</td>\n",
       "      <td>1.119565</td>\n",
       "    </tr>\n",
       "    <tr>\n",
       "      <th>AB_WeightedCenter (w:6.759281,lamba:0.237363)</th>\n",
       "      <td>11</td>\n",
       "      <td>13</td>\n",
       "      <td>12</td>\n",
       "      <td>17</td>\n",
       "      <td>15</td>\n",
       "      <td>17</td>\n",
       "      <td>18</td>\n",
       "      <td>103</td>\n",
       "      <td>0.735714</td>\n",
       "      <td>1.119565</td>\n",
       "    </tr>\n",
       "    <tr>\n",
       "      <th>AB_WeightedCenter (w:4.553225,lamba:0.265657)</th>\n",
       "      <td>14</td>\n",
       "      <td>10</td>\n",
       "      <td>8</td>\n",
       "      <td>20</td>\n",
       "      <td>15</td>\n",
       "      <td>16</td>\n",
       "      <td>19</td>\n",
       "      <td>102</td>\n",
       "      <td>0.728571</td>\n",
       "      <td>1.108696</td>\n",
       "    </tr>\n",
       "  </tbody>\n",
       "</table>\n",
       "</div>"
      ],
      "text/plain": [
       "                                               AB_Center  AB_Improved  \\\n",
       "AB_WeightedCenter (w:8.249055,lamba:0.163261)         12           16   \n",
       "AB_WeightedImproved (w:0.989725)                      12           13   \n",
       "AB_WeightedCenter (w:0.728707,lamba:0.078828)         12           13   \n",
       "AB_WeightedCenter (w:6.759281,lamba:0.237363)         11           13   \n",
       "AB_WeightedCenter (w:4.553225,lamba:0.265657)         14           10   \n",
       "\n",
       "                                               AB_Open  MM_Center  \\\n",
       "AB_WeightedCenter (w:8.249055,lamba:0.163261)       12         19   \n",
       "AB_WeightedImproved (w:0.989725)                    12         19   \n",
       "AB_WeightedCenter (w:0.728707,lamba:0.078828)        8         17   \n",
       "AB_WeightedCenter (w:6.759281,lamba:0.237363)       12         17   \n",
       "AB_WeightedCenter (w:4.553225,lamba:0.265657)        8         20   \n",
       "\n",
       "                                               MM_Improved  MM_Open  Random  \\\n",
       "AB_WeightedCenter (w:8.249055,lamba:0.163261)           16       18      19   \n",
       "AB_WeightedImproved (w:0.989725)                        15       17      20   \n",
       "AB_WeightedCenter (w:0.728707,lamba:0.078828)           15       19      19   \n",
       "AB_WeightedCenter (w:6.759281,lamba:0.237363)           15       17      18   \n",
       "AB_WeightedCenter (w:4.553225,lamba:0.265657)           15       16      19   \n",
       "\n",
       "                                               total wins  Fraction Won  \\\n",
       "AB_WeightedCenter (w:8.249055,lamba:0.163261)         112      0.800000   \n",
       "AB_WeightedImproved (w:0.989725)                      108      0.771429   \n",
       "AB_WeightedCenter (w:0.728707,lamba:0.078828)         103      0.735714   \n",
       "AB_WeightedCenter (w:6.759281,lamba:0.237363)         103      0.735714   \n",
       "AB_WeightedCenter (w:4.553225,lamba:0.265657)         102      0.728571   \n",
       "\n",
       "                                               relative strength  \n",
       "AB_WeightedCenter (w:8.249055,lamba:0.163261)           1.217391  \n",
       "AB_WeightedImproved (w:0.989725)                        1.173913  \n",
       "AB_WeightedCenter (w:0.728707,lamba:0.078828)           1.119565  \n",
       "AB_WeightedCenter (w:6.759281,lamba:0.237363)           1.119565  \n",
       "AB_WeightedCenter (w:4.553225,lamba:0.265657)           1.108696  "
      ]
     },
     "execution_count": 9,
     "metadata": {},
     "output_type": "execute_result"
    }
   ],
   "source": [
    "win_record2.head()"
   ]
  },
  {
   "cell_type": "code",
   "execution_count": 10,
   "metadata": {
    "collapsed": true,
    "deletable": true,
    "editable": true
   },
   "outputs": [],
   "source": [
    "# save\n",
    "win_record2.to_csv('GameSimulationResults2.csv')"
   ]
  },
  {
   "cell_type": "markdown",
   "metadata": {
    "deletable": true,
    "editable": true
   },
   "source": [
    "### Conclusions: \n",
    "\n",
    "We randomly generated a series of scoring functions and evaluated them againt players. "
   ]
  }
 ],
 "metadata": {
  "kernelspec": {
   "display_name": "IPython (Python 3)",
   "language": "python",
   "name": "python3"
  },
  "language_info": {
   "codemirror_mode": {
    "name": "ipython",
    "version": 3
   },
   "file_extension": ".py",
   "mimetype": "text/x-python",
   "name": "python",
   "nbconvert_exporter": "python",
   "pygments_lexer": "ipython3",
   "version": "3.6.0"
  }
 },
 "nbformat": 4,
 "nbformat_minor": 2
}
